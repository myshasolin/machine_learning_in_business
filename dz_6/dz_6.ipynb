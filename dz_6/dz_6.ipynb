{
 "cells": [
  {
   "cell_type": "markdown",
   "id": "a898fe21",
   "metadata": {
    "toc": true
   },
   "source": [
    "<h1>Table of Contents<span class=\"tocSkip\"></span></h1>\n",
    "<div class=\"toc\"><ul class=\"toc-item\"></ul></div>"
   ]
  },
  {
   "cell_type": "markdown",
   "id": "513db017",
   "metadata": {},
   "source": [
    "1. Взять любой набор данных для бинарной классификации\n",
    "2. Обучить любой классификатор \n",
    "3. Разделить набор данных на два множества: P (positives) и U (unlabeled). Причем брать нужно не все положительные примеры (класс 1), а только лишь часть\n",
    "4. Применить random negative sampling для построения классификатора в новых условиях\n",
    "5. Сравнить качество с решением из пункта 3 (построить отчет - таблицу метрик)\n",
    "6. *Поэкспериментировать с долей P на шаге 5 (как будет меняться качество модели при уменьшении/увеличении размера P)"
   ]
  },
  {
   "cell_type": "markdown",
   "id": "93314fe5",
   "metadata": {},
   "source": [
    "_____"
   ]
  },
  {
   "cell_type": "markdown",
   "id": "f591833e",
   "metadata": {},
   "source": [
    "Датасет лежит [здесь](https://www.kaggle.com/datasets/joshmcadams/oranges-vs-grapefruit) - это данные о диаметре, весе и цвете апельсинов и грейпфрутов. Нужно отделить одних от других"
   ]
  },
  {
   "cell_type": "code",
   "execution_count": 1,
   "id": "32c29e2e",
   "metadata": {},
   "outputs": [],
   "source": [
    "#!curl -O https://www.kaggle.com/datasets/joshmcadams/oranges-vs-grapefruit/download?datasetVersionNumber=2"
   ]
  },
  {
   "cell_type": "code",
   "execution_count": 2,
   "id": "252e5789",
   "metadata": {},
   "outputs": [],
   "source": [
    "#!pip install xgboost"
   ]
  },
  {
   "cell_type": "code",
   "execution_count": 3,
   "id": "70c21d5a",
   "metadata": {},
   "outputs": [],
   "source": [
    "import numpy as np\n",
    "import pandas as pd\n",
    "import matplotlib.pyplot as plt\n",
    "import xgboost as xgb\n",
    "from sklearn.model_selection import train_test_split\n",
    "from sklearn.metrics import recall_score, precision_score, f1_score"
   ]
  },
  {
   "cell_type": "code",
   "execution_count": 4,
   "id": "d9e08837",
   "metadata": {},
   "outputs": [],
   "source": [
    "def evaluate_results(y_test, y_predict, show_info=False, get_info=False):\n",
    "    \"\"\"метрики: F1-score, precision, recall\"\"\"\n",
    "\n",
    "    F1 = f1_score(y_test, y_predict)\n",
    "    rec = recall_score(y_test, y_predict, average='binary')\n",
    "    prc = precision_score(y_test, y_predict, average='binary')\n",
    "\n",
    "    if show_info:\n",
    "        print('-------\\nРезультаты классификации:\\n'\n",
    "              f'F1: {F1:.2%}\\nrecall: {rec:.2%}\\nprecision: {prc:.2%}')\n",
    "    if get_info:\n",
    "        return prc, rec, F1\n",
    "\n",
    "\n",
    "def look_alike_algorithm(X_train, y_train, model=xgb.XGBClassifier(), perc=0.25, show_info=False):\n",
    "    \"\"\"реализация look-alike обучения\"\"\"\n",
    "\n",
    "    # забираем для обучения perc% таргета=1\n",
    "    mod_data = X_train.copy()\n",
    "    mod_data['name'] = y_train\n",
    "    mod_data = mod_data.reset_index(drop=True)\n",
    "    pos_ind = np.where(mod_data.iloc[:, -1].values == 1)[0]\n",
    "    np.random.shuffle(pos_ind)\n",
    "    pos_sample_len = int(np.ceil(perc * len(pos_ind)))\n",
    "\n",
    "    # создаём новую целевую переменную\n",
    "    pos_sample = pos_ind[:pos_sample_len]\n",
    "    mod_data['class_test'] = -1\n",
    "    mod_data.loc[pos_sample, 'class_test'] = 1\n",
    "\n",
    "    # этап Random Negative Sample\n",
    "    mod_data = mod_data.sample(frac=1)\n",
    "\n",
    "    data_N = mod_data[mod_data['class_test'] == -1]\n",
    "    data_P = mod_data[mod_data['class_test'] == 1]\n",
    "\n",
    "    neg_sample = data_N[:data_P.shape[0]]\n",
    "    sample_test = data_N[data_P.shape[0]:]\n",
    "    pos_sample = data_P.copy()\n",
    "\n",
    "    sample_train = pd.concat([neg_sample, pos_sample]).sample(frac=1)\n",
    "\n",
    "    # предсказываем:\n",
    "    model = xgb.XGBClassifier()\n",
    "    sample_train.loc[sample_train['class_test'] == -1, 'class_test'] = 0\n",
    "\n",
    "    model.fit(sample_train.drop(columns=['class_test', 'name']),\n",
    "              sample_train['class_test'])\n",
    "    predict = model.predict(X_test)\n",
    "\n",
    "    if show_info:\n",
    "        print(f'использовано {pos_sample_len/len(pos_ind):.0%} признаков целевой переменной, '\n",
    "              'с остальных метки сняты'\n",
    "              f'\\n\\nраспределение признака:\\n{pd.DataFrame(mod_data.iloc[:,-1].value_counts())}'\n",
    "              f'\\n\\nразмеры:\\n{neg_sample.shape=}\\n{pos_sample.shape=}')\n",
    "\n",
    "    return predict\n",
    "\n",
    "\n",
    "result_table = pd.DataFrame(columns=['name_model', 'precision', 'recall', 'F1-score'])\n",
    "\n",
    "\n",
    "def add_table(name_model, precision, recall, F1, result_table):\n",
    "    \"\"\"функция дозаписывает таблицу\"\"\"\n",
    "\n",
    "    result_table = pd.concat([result_table,\n",
    "                              pd.DataFrame({'name_model': name_model,\n",
    "                                            'precision': precision,\n",
    "                                            'recall': recall,\n",
    "                                            'F1-score': F1}, index=[0])],\n",
    "                             ignore_index=True)\n",
    "    return result_table\n",
    "\n",
    "\n",
    "def get_plot():\n",
    "    \"\"\"функция отрисовывает три plot-графика\"\"\"\n",
    "\n",
    "    fig, ax = plt.subplots(nrows=3, figsize=(10, 8))\n",
    "    title_list = ['precision', 'recall', 'F1_score']\n",
    "    fig.suptitle('зависимость метрик от доли True-значений', fontsize=16, fontweight='bold')\n",
    "    for i, p in enumerate([prec_list, rec_list, f1_list]):\n",
    "        ax[i].plot(p, '-o', ms=2, lw=0.5, c='#EC2591')\n",
    "        ax[i].set_title(title_list[i], fontweight='bold', fontsize=13)\n",
    "        ax[i].minorticks_on()\n",
    "        ax[i].grid(which='major', linewidth=0.5)\n",
    "        ax[i].grid(which='minor', axis='y', linewidth=0.25, linestyle='--')\n",
    "        ax[i].set_xticks(np.arange(0, 55, 5))\n",
    "        ax[i].set_xticklabels([1] + list(range(5, 100, 10)))\n",
    "        ax[i].set_xlabel('доля True-значений', fontsize=7)\n",
    "    plt.subplots_adjust(hspace=0.5);"
   ]
  },
  {
   "cell_type": "markdown",
   "id": "22e04fff",
   "metadata": {},
   "source": [
    "Качаем датасет и смотрим на него:"
   ]
  },
  {
   "cell_type": "code",
   "execution_count": 5,
   "id": "0ab672e0",
   "metadata": {},
   "outputs": [
    {
     "data": {
      "text/html": [
       "<div>\n",
       "<style scoped>\n",
       "    .dataframe tbody tr th:only-of-type {\n",
       "        vertical-align: middle;\n",
       "    }\n",
       "\n",
       "    .dataframe tbody tr th {\n",
       "        vertical-align: top;\n",
       "    }\n",
       "\n",
       "    .dataframe thead th {\n",
       "        text-align: right;\n",
       "    }\n",
       "</style>\n",
       "<table border=\"1\" class=\"dataframe\">\n",
       "  <thead>\n",
       "    <tr style=\"text-align: right;\">\n",
       "      <th></th>\n",
       "      <th>name</th>\n",
       "      <th>diameter</th>\n",
       "      <th>weight</th>\n",
       "      <th>red</th>\n",
       "      <th>green</th>\n",
       "      <th>blue</th>\n",
       "    </tr>\n",
       "  </thead>\n",
       "  <tbody>\n",
       "    <tr>\n",
       "      <th>0</th>\n",
       "      <td>orange</td>\n",
       "      <td>2.96</td>\n",
       "      <td>86.76</td>\n",
       "      <td>172</td>\n",
       "      <td>85</td>\n",
       "      <td>2</td>\n",
       "    </tr>\n",
       "    <tr>\n",
       "      <th>1</th>\n",
       "      <td>orange</td>\n",
       "      <td>3.91</td>\n",
       "      <td>88.05</td>\n",
       "      <td>166</td>\n",
       "      <td>78</td>\n",
       "      <td>3</td>\n",
       "    </tr>\n",
       "    <tr>\n",
       "      <th>2</th>\n",
       "      <td>orange</td>\n",
       "      <td>4.42</td>\n",
       "      <td>95.17</td>\n",
       "      <td>156</td>\n",
       "      <td>81</td>\n",
       "      <td>2</td>\n",
       "    </tr>\n",
       "    <tr>\n",
       "      <th>3</th>\n",
       "      <td>orange</td>\n",
       "      <td>4.47</td>\n",
       "      <td>95.60</td>\n",
       "      <td>163</td>\n",
       "      <td>81</td>\n",
       "      <td>4</td>\n",
       "    </tr>\n",
       "    <tr>\n",
       "      <th>4</th>\n",
       "      <td>orange</td>\n",
       "      <td>4.48</td>\n",
       "      <td>95.76</td>\n",
       "      <td>161</td>\n",
       "      <td>72</td>\n",
       "      <td>9</td>\n",
       "    </tr>\n",
       "  </tbody>\n",
       "</table>\n",
       "</div>"
      ],
      "text/plain": [
       "     name  diameter  weight  red  green  blue\n",
       "0  orange      2.96   86.76  172     85     2\n",
       "1  orange      3.91   88.05  166     78     3\n",
       "2  orange      4.42   95.17  156     81     2\n",
       "3  orange      4.47   95.60  163     81     4\n",
       "4  orange      4.48   95.76  161     72     9"
      ]
     },
     "execution_count": 5,
     "metadata": {},
     "output_type": "execute_result"
    }
   ],
   "source": [
    "df = pd.read_csv('citrus.csv')\n",
    "df.head()"
   ]
  },
  {
   "cell_type": "code",
   "execution_count": 6,
   "id": "9ca3c8c9",
   "metadata": {},
   "outputs": [
    {
     "name": "stdout",
     "output_type": "stream",
     "text": [
      "<class 'pandas.core.frame.DataFrame'>\n",
      "RangeIndex: 10000 entries, 0 to 9999\n",
      "Data columns (total 6 columns):\n",
      " #   Column    Non-Null Count  Dtype  \n",
      "---  ------    --------------  -----  \n",
      " 0   name      10000 non-null  object \n",
      " 1   diameter  10000 non-null  float64\n",
      " 2   weight    10000 non-null  float64\n",
      " 3   red       10000 non-null  int64  \n",
      " 4   green     10000 non-null  int64  \n",
      " 5   blue      10000 non-null  int64  \n",
      "dtypes: float64(2), int64(3), object(1)\n",
      "memory usage: 468.9+ KB\n"
     ]
    }
   ],
   "source": [
    "df.info()"
   ]
  },
  {
   "cell_type": "code",
   "execution_count": 7,
   "id": "adf81066",
   "metadata": {},
   "outputs": [
    {
     "data": {
      "text/html": [
       "<div>\n",
       "<style scoped>\n",
       "    .dataframe tbody tr th:only-of-type {\n",
       "        vertical-align: middle;\n",
       "    }\n",
       "\n",
       "    .dataframe tbody tr th {\n",
       "        vertical-align: top;\n",
       "    }\n",
       "\n",
       "    .dataframe thead th {\n",
       "        text-align: right;\n",
       "    }\n",
       "</style>\n",
       "<table border=\"1\" class=\"dataframe\">\n",
       "  <thead>\n",
       "    <tr style=\"text-align: right;\">\n",
       "      <th></th>\n",
       "      <th>count</th>\n",
       "      <th>mean</th>\n",
       "      <th>std</th>\n",
       "      <th>min</th>\n",
       "      <th>25%</th>\n",
       "      <th>50%</th>\n",
       "      <th>75%</th>\n",
       "      <th>max</th>\n",
       "    </tr>\n",
       "  </thead>\n",
       "  <tbody>\n",
       "    <tr>\n",
       "      <th>diameter</th>\n",
       "      <td>10000.0</td>\n",
       "      <td>9.975685</td>\n",
       "      <td>1.947844</td>\n",
       "      <td>2.96</td>\n",
       "      <td>8.46</td>\n",
       "      <td>9.980</td>\n",
       "      <td>11.4800</td>\n",
       "      <td>16.45</td>\n",
       "    </tr>\n",
       "    <tr>\n",
       "      <th>weight</th>\n",
       "      <td>10000.0</td>\n",
       "      <td>175.050792</td>\n",
       "      <td>29.212119</td>\n",
       "      <td>86.76</td>\n",
       "      <td>152.22</td>\n",
       "      <td>174.985</td>\n",
       "      <td>197.7225</td>\n",
       "      <td>261.51</td>\n",
       "    </tr>\n",
       "    <tr>\n",
       "      <th>red</th>\n",
       "      <td>10000.0</td>\n",
       "      <td>153.847800</td>\n",
       "      <td>10.432954</td>\n",
       "      <td>115.00</td>\n",
       "      <td>147.00</td>\n",
       "      <td>154.000</td>\n",
       "      <td>161.0000</td>\n",
       "      <td>192.00</td>\n",
       "    </tr>\n",
       "    <tr>\n",
       "      <th>green</th>\n",
       "      <td>10000.0</td>\n",
       "      <td>76.010600</td>\n",
       "      <td>11.708433</td>\n",
       "      <td>31.00</td>\n",
       "      <td>68.00</td>\n",
       "      <td>76.000</td>\n",
       "      <td>84.0000</td>\n",
       "      <td>116.00</td>\n",
       "    </tr>\n",
       "    <tr>\n",
       "      <th>blue</th>\n",
       "      <td>10000.0</td>\n",
       "      <td>11.363200</td>\n",
       "      <td>9.061275</td>\n",
       "      <td>2.00</td>\n",
       "      <td>2.00</td>\n",
       "      <td>10.000</td>\n",
       "      <td>17.0000</td>\n",
       "      <td>56.00</td>\n",
       "    </tr>\n",
       "  </tbody>\n",
       "</table>\n",
       "</div>"
      ],
      "text/plain": [
       "            count        mean        std     min     25%      50%       75%  \\\n",
       "diameter  10000.0    9.975685   1.947844    2.96    8.46    9.980   11.4800   \n",
       "weight    10000.0  175.050792  29.212119   86.76  152.22  174.985  197.7225   \n",
       "red       10000.0  153.847800  10.432954  115.00  147.00  154.000  161.0000   \n",
       "green     10000.0   76.010600  11.708433   31.00   68.00   76.000   84.0000   \n",
       "blue      10000.0   11.363200   9.061275    2.00    2.00   10.000   17.0000   \n",
       "\n",
       "             max  \n",
       "diameter   16.45  \n",
       "weight    261.51  \n",
       "red       192.00  \n",
       "green     116.00  \n",
       "blue       56.00  "
      ]
     },
     "execution_count": 7,
     "metadata": {},
     "output_type": "execute_result"
    }
   ],
   "source": [
    "df.describe().T"
   ]
  },
  {
   "cell_type": "markdown",
   "id": "bfb63f59",
   "metadata": {},
   "source": [
    "Добавим признак яркости (brightness), который будет равен среднему значению яркости, рассчитываемому по формуле:\n",
    "\n",
    "$$brightness = (0.2126 \\cdot red) + (0.7152 \\cdot green) + (0.0722 \\cdot blue)$$"
   ]
  },
  {
   "cell_type": "code",
   "execution_count": 8,
   "id": "ea24e6d7",
   "metadata": {},
   "outputs": [],
   "source": [
    "df['brightness'] = (0.2126 * df['red']) + (0.7152 * df['green']) + (0.0722 * df['blue'])"
   ]
  },
  {
   "cell_type": "code",
   "execution_count": 9,
   "id": "e12043c8",
   "metadata": {},
   "outputs": [
    {
     "data": {
      "image/png": "[encoded data removed]",
      "text/plain": [
       "<Figure size 800x600 with 6 Axes>"
      ]
     },
     "metadata": {},
     "output_type": "display_data"
    }
   ],
   "source": [
    "df.select_dtypes(include=np.number).hist(figsize=(8, 6), color='#D2B4DE', ec='#5B2C6F')\n",
    "plt.subplots_adjust(hspace=0.5);"
   ]
  },
  {
   "cell_type": "markdown",
   "id": "42adb200",
   "metadata": {},
   "source": [
    "**Описание признаков:**\n",
    "\n",
    "- ```name``` - бинарная целевая переменная - 'orange' or 'grapefruit'\n",
    "- ```diameter``` - диаметр в сантиметрах\n",
    "- ```weight``` - вес в раммах\n",
    "- ```red``` - Среднее значение красного цвета при сканировании RGB. Значения должны быть от 0 до 255\n",
    "- ```green``` - Среднее значение зеленого цвета при сканировании RGB. Значения должны быть от 0 до 255.\n",
    "- ```blue``` - Среднее значение синего цвета при сканировании RGB. Значения должны быть от 0 до 255.\n",
    "- ```brightness``` - Среднее значение яркости\n",
    "\n",
    "```RGB``` - это аббревиатура от Red (красный), Green (зеленый) и Blue (синий) - это три основных цвета, которые используются в электронной графике и фотографии для создания цветового спектра."
   ]
  },
  {
   "cell_type": "markdown",
   "id": "f5d11cdd",
   "metadata": {},
   "source": [
    "_____"
   ]
  },
  {
   "cell_type": "markdown",
   "id": "c0fa88e6",
   "metadata": {},
   "source": [
    "Сделаем целевую переменную 0 (грейпфруты) и 1 (апельсины) и посмотрим на её распределение:"
   ]
  },
  {
   "cell_type": "code",
   "execution_count": 10,
   "id": "700de4ad",
   "metadata": {},
   "outputs": [
    {
     "data": {
      "text/plain": [
       "1    5000\n",
       "0    5000\n",
       "Name: name, dtype: int64"
      ]
     },
     "execution_count": 10,
     "metadata": {},
     "output_type": "execute_result"
    }
   ],
   "source": [
    "df['name'] = np.where(df['name'] == 'orange', 1, 0)\n",
    "df['name'].value_counts()"
   ]
  },
  {
   "cell_type": "markdown",
   "id": "487ad8ae",
   "metadata": {},
   "source": [
    "Разобъём данные:"
   ]
  },
  {
   "cell_type": "code",
   "execution_count": 11,
   "id": "57e802a4",
   "metadata": {},
   "outputs": [],
   "source": [
    "X_train, X_test, y_train, y_test = train_test_split(df.drop(columns='name'),\n",
    "                                                    df['name'], test_size=.2, random_state=0)"
   ]
  },
  {
   "cell_type": "markdown",
   "id": "f88372e8",
   "metadata": {},
   "source": [
    "_____"
   ]
  },
  {
   "cell_type": "markdown",
   "id": "b855bd01",
   "metadata": {},
   "source": [
    " Сначала проверим, что получится с применением обычной классификации:"
   ]
  },
  {
   "cell_type": "code",
   "execution_count": 12,
   "id": "afafff6f",
   "metadata": {},
   "outputs": [
    {
     "name": "stdout",
     "output_type": "stream",
     "text": [
      "-------\n",
      "Результаты классификации:\n",
      "F1: 98.26%\n",
      "recall: 97.37%\n",
      "precision: 99.18%\n"
     ]
    }
   ],
   "source": [
    "model = xgb.XGBClassifier()\n",
    "model.fit(X_train, y_train)\n",
    "y_predict = model.predict(X_test)\n",
    "prec, rec, f1 = evaluate_results(y_test, y_predict, show_info=True, get_info=True)\n",
    "result_table = add_table('обычная классификация', prec, rec, f1, result_table)"
   ]
  },
  {
   "cell_type": "markdown",
   "id": "9a058ca3",
   "metadata": {},
   "source": [
    "_____"
   ]
  },
  {
   "cell_type": "markdown",
   "id": "3dbe02bb",
   "metadata": {},
   "source": [
    "Теперь попробуем подход ```random negative sampling``` для построения модели, разделяя данные с помощью ```PU learning```-алгоритма:"
   ]
  },
  {
   "cell_type": "markdown",
   "id": "1c65f2ee",
   "metadata": {},
   "source": [
    "Оставим от класса = 1 25%, а остальные признаки (и 0 и 1) отпределим как неразмеченные:"
   ]
  },
  {
   "cell_type": "code",
   "execution_count": 13,
   "id": "917488f9",
   "metadata": {},
   "outputs": [
    {
     "name": "stdout",
     "output_type": "stream",
     "text": [
      "использовано 25% признаков целевой переменной, с остальных метки сняты\n",
      "\n",
      "распределение признака:\n",
      "    class_test\n",
      "-1        6997\n",
      " 1        1003\n",
      "\n",
      "размеры:\n",
      "neg_sample.shape=(1003, 8)\n",
      "pos_sample.shape=(1003, 8)\n",
      "-------\n",
      "Результаты классификации:\n",
      "F1: 85.36%\n",
      "recall: 77.02%\n",
      "precision: 95.72%\n"
     ]
    },
    {
     "data": {
      "text/html": [
       "<div>\n",
       "<style scoped>\n",
       "    .dataframe tbody tr th:only-of-type {\n",
       "        vertical-align: middle;\n",
       "    }\n",
       "\n",
       "    .dataframe tbody tr th {\n",
       "        vertical-align: top;\n",
       "    }\n",
       "\n",
       "    .dataframe thead th {\n",
       "        text-align: right;\n",
       "    }\n",
       "</style>\n",
       "<table border=\"1\" class=\"dataframe\">\n",
       "  <thead>\n",
       "    <tr style=\"text-align: right;\">\n",
       "      <th></th>\n",
       "      <th>name_model</th>\n",
       "      <th>precision</th>\n",
       "      <th>recall</th>\n",
       "      <th>F1-score</th>\n",
       "    </tr>\n",
       "  </thead>\n",
       "  <tbody>\n",
       "    <tr>\n",
       "      <th>0</th>\n",
       "      <td>обычная классификация</td>\n",
       "      <td>0.991753</td>\n",
       "      <td>0.973684</td>\n",
       "      <td>0.982635</td>\n",
       "    </tr>\n",
       "    <tr>\n",
       "      <th>1</th>\n",
       "      <td>PU learning 25%</td>\n",
       "      <td>0.957233</td>\n",
       "      <td>0.770243</td>\n",
       "      <td>0.853617</td>\n",
       "    </tr>\n",
       "  </tbody>\n",
       "</table>\n",
       "</div>"
      ],
      "text/plain": [
       "              name_model  precision    recall  F1-score\n",
       "0  обычная классификация   0.991753  0.973684  0.982635\n",
       "1        PU learning 25%   0.957233  0.770243  0.853617"
      ]
     },
     "execution_count": 13,
     "metadata": {},
     "output_type": "execute_result"
    }
   ],
   "source": [
    "prec, rec, f1 = evaluate_results(y_test,\n",
    "                                 look_alike_algorithm(X_train, y_train, perc=0.25, show_info=True),\n",
    "                                 show_info=True, get_info=True)\n",
    "result_table = add_table('PU learning 25%', prec, rec, f1, result_table)\n",
    "result_table"
   ]
  },
  {
   "cell_type": "markdown",
   "id": "3b834449",
   "metadata": {},
   "source": [
    "При применении PU learning- подхода мы видим небольшую просадку в значениях метрик. "
   ]
  },
  {
   "cell_type": "markdown",
   "id": "5ad4f656",
   "metadata": {},
   "source": [
    "_____"
   ]
  },
  {
   "cell_type": "markdown",
   "id": "868c771c",
   "metadata": {},
   "source": [
    "Проведём эксперимент - будем метять % true-значений и посмотрим на изменение значений F1, precision и recall:"
   ]
  },
  {
   "cell_type": "code",
   "execution_count": 14,
   "id": "44666093",
   "metadata": {},
   "outputs": [
    {
     "data": {
      "image/png": "[encoded data removed]",
      "text/plain": [
       "<Figure size 1000x800 with 3 Axes>"
      ]
     },
     "metadata": {},
     "output_type": "display_data"
    }
   ],
   "source": [
    "prec_list, rec_list, f1_list = [], [], []\n",
    "\n",
    "frac, step = 0.05, 1\n",
    "while frac < 1:\n",
    "    y_pred = look_alike_algorithm(X_train, y_train, perc=frac)\n",
    "    prec, rec, f1 = evaluate_results(y_test, y_pred, get_info=True)\n",
    "    prec_list.append(prec)\n",
    "    rec_list.append(rec)\n",
    "    f1_list.append(f1)\n",
    "    frac += 0.02\n",
    "    step += 1\n",
    "    if step % 5 == 0:\n",
    "        result_table = add_table(f'PU learning {frac:.0%}', prec, rec, f1, result_table)\n",
    "get_plot()"
   ]
  },
  {
   "cell_type": "markdown",
   "id": "2a8052fa",
   "metadata": {},
   "source": [
    "Отсортируем значение метрик по 'F1-score' и посмотрим на результат:"
   ]
  },
  {
   "cell_type": "code",
   "execution_count": 15,
   "id": "16342f7d",
   "metadata": {},
   "outputs": [
    {
     "data": {
      "text/html": [
       "<div>\n",
       "<style scoped>\n",
       "    .dataframe tbody tr th:only-of-type {\n",
       "        vertical-align: middle;\n",
       "    }\n",
       "\n",
       "    .dataframe tbody tr th {\n",
       "        vertical-align: top;\n",
       "    }\n",
       "\n",
       "    .dataframe thead th {\n",
       "        text-align: right;\n",
       "    }\n",
       "</style>\n",
       "<table border=\"1\" class=\"dataframe\">\n",
       "  <thead>\n",
       "    <tr style=\"text-align: right;\">\n",
       "      <th></th>\n",
       "      <th>name_model</th>\n",
       "      <th>precision</th>\n",
       "      <th>recall</th>\n",
       "      <th>F1-score</th>\n",
       "    </tr>\n",
       "  </thead>\n",
       "  <tbody>\n",
       "    <tr>\n",
       "      <th>0</th>\n",
       "      <td>обычная классификация</td>\n",
       "      <td>0.991753</td>\n",
       "      <td>0.973684</td>\n",
       "      <td>0.982635</td>\n",
       "    </tr>\n",
       "    <tr>\n",
       "      <th>1</th>\n",
       "      <td>PU learning 93%</td>\n",
       "      <td>0.980208</td>\n",
       "      <td>0.952429</td>\n",
       "      <td>0.966119</td>\n",
       "    </tr>\n",
       "    <tr>\n",
       "      <th>2</th>\n",
       "      <td>PU learning 83%</td>\n",
       "      <td>0.976987</td>\n",
       "      <td>0.945344</td>\n",
       "      <td>0.960905</td>\n",
       "    </tr>\n",
       "    <tr>\n",
       "      <th>3</th>\n",
       "      <td>PU learning 73%</td>\n",
       "      <td>0.985699</td>\n",
       "      <td>0.906883</td>\n",
       "      <td>0.944649</td>\n",
       "    </tr>\n",
       "    <tr>\n",
       "      <th>4</th>\n",
       "      <td>PU learning 63%</td>\n",
       "      <td>0.969163</td>\n",
       "      <td>0.890688</td>\n",
       "      <td>0.928270</td>\n",
       "    </tr>\n",
       "    <tr>\n",
       "      <th>5</th>\n",
       "      <td>PU learning 53%</td>\n",
       "      <td>0.971559</td>\n",
       "      <td>0.864372</td>\n",
       "      <td>0.914837</td>\n",
       "    </tr>\n",
       "    <tr>\n",
       "      <th>6</th>\n",
       "      <td>PU learning 43%</td>\n",
       "      <td>0.965558</td>\n",
       "      <td>0.822874</td>\n",
       "      <td>0.888525</td>\n",
       "    </tr>\n",
       "    <tr>\n",
       "      <th>7</th>\n",
       "      <td>PU learning 33%</td>\n",
       "      <td>0.953571</td>\n",
       "      <td>0.810729</td>\n",
       "      <td>0.876368</td>\n",
       "    </tr>\n",
       "    <tr>\n",
       "      <th>8</th>\n",
       "      <td>PU learning 25%</td>\n",
       "      <td>0.957233</td>\n",
       "      <td>0.770243</td>\n",
       "      <td>0.853617</td>\n",
       "    </tr>\n",
       "    <tr>\n",
       "      <th>9</th>\n",
       "      <td>PU learning 23%</td>\n",
       "      <td>0.936488</td>\n",
       "      <td>0.761134</td>\n",
       "      <td>0.839754</td>\n",
       "    </tr>\n",
       "    <tr>\n",
       "      <th>10</th>\n",
       "      <td>PU learning 13%</td>\n",
       "      <td>0.915789</td>\n",
       "      <td>0.704453</td>\n",
       "      <td>0.796339</td>\n",
       "    </tr>\n",
       "  </tbody>\n",
       "</table>\n",
       "</div>"
      ],
      "text/plain": [
       "               name_model  precision    recall  F1-score\n",
       "0   обычная классификация   0.991753  0.973684  0.982635\n",
       "1         PU learning 93%   0.980208  0.952429  0.966119\n",
       "2         PU learning 83%   0.976987  0.945344  0.960905\n",
       "3         PU learning 73%   0.985699  0.906883  0.944649\n",
       "4         PU learning 63%   0.969163  0.890688  0.928270\n",
       "5         PU learning 53%   0.971559  0.864372  0.914837\n",
       "6         PU learning 43%   0.965558  0.822874  0.888525\n",
       "7         PU learning 33%   0.953571  0.810729  0.876368\n",
       "8         PU learning 25%   0.957233  0.770243  0.853617\n",
       "9         PU learning 23%   0.936488  0.761134  0.839754\n",
       "10        PU learning 13%   0.915789  0.704453  0.796339"
      ]
     },
     "execution_count": 15,
     "metadata": {},
     "output_type": "execute_result"
    }
   ],
   "source": [
    "result_table.sort_values('F1-score', ascending=False).reset_index(drop=True)"
   ]
  },
  {
   "cell_type": "markdown",
   "id": "700bd033",
   "metadata": {},
   "source": [
    "**Вывод:**\n",
    "\n",
    "Очень логично и предсказуемо видно и в общей сводной таблице и на графиках то, что с увеличнием доли True-значений ```random negative sampling```-подход даёт качество всё лучше. Причём точность правильно предсказанных признаков страдает меньше всего, а вот полнота теряет аж до 30%.\n",
    "\n",
    "В целом доля в 25-30% True-значений даёт хороший результат с F1 до 88% $\\Rightarrow$ этот порог выглядит адекватным, можно остановиться на нём"
   ]
  },
  {
   "cell_type": "code",
   "execution_count": null,
   "id": "42ca9c91",
   "metadata": {},
   "outputs": [],
   "source": []
  }
 ],
 "metadata": {
  "kernelspec": {
   "display_name": "Python 3 (ipykernel)",
   "language": "python",
   "name": "python3"
  },
  "language_info": {
   "codemirror_mode": {
    "name": "ipython",
    "version": 3
   },
   "file_extension": ".py",
   "mimetype": "text/x-python",
   "name": "python",
   "nbconvert_exporter": "python",
   "pygments_lexer": "ipython3",
   "version": "3.9.13"
  },
  "toc": {
   "base_numbering": 1,
   "nav_menu": {},
   "number_sections": true,
   "sideBar": true,
   "skip_h1_title": true,
   "title_cell": "Table of Contents",
   "title_sidebar": "Contents",
   "toc_cell": true,
   "toc_position": {},
   "toc_section_display": true,
   "toc_window_display": false
  }
 },
 "nbformat": 4,
 "nbformat_minor": 5
}
