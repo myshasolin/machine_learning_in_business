{
  "nbformat": 4,
  "nbformat_minor": 0,
  "metadata": {
    "colab": {
      "provenance": []
    },
    "kernelspec": {
      "name": "python3",
      "display_name": "Python 3"
    },
    "language_info": {
      "name": "python"
    }
  },
  "cells": [
    {
      "cell_type": "markdown",
      "source": [
        "1. Для пайплайна работаем с набором данных с платформы [Kaggle](https://www.kaggle.com/adammaus/predicting-churn-for-bank-customers) по оттоку клиентов банка, экспериментируем с разными моделями:\n",
        "- бустинг\n",
        "- логистическая регрессия\n",
        "\n",
        "2. Отобираем лучшую модель по метрикам (какая по вашему мнению здесь наиболее подходящая ML-метрика)\n",
        "3. Для отобранной модели (на отложенной выборке) делаем оценку экономической эффективности при тех же вводных, как в вопросе 2:\n",
        "- 1 доллар на удержание\n",
        "- 2 доллара - с каждого правильно классифицированного (True Positive)\n",
        "\n",
        "4. *Провести подбор гиперпараметров лучшей модели по итогам 2-3\n",
        "5. *Еще раз провести оценку экономической эффективности"
      ],
      "metadata": {
        "id": "37L7fXs7UM2K"
      }
    },
    {
      "cell_type": "code",
      "execution_count": 1,
      "metadata": {
        "id": "RBagVpl8UJ1g"
      },
      "outputs": [],
      "source": [
        "import numpy as np\n",
        "import pandas as pd\n",
        "pd.set_option('max_colwidth', 1000)\n",
        "\n",
        "from sklearn.pipeline import Pipeline, FeatureUnion #, make_pipeline\n",
        "from sklearn.base import BaseEstimator, TransformerMixin\n",
        "from sklearn.model_selection import train_test_split, GridSearchCV\n",
        "import matplotlib.pyplot as plt\n",
        "import seaborn as sns\n",
        "from functools import reduce\n",
        "\n",
        "from sklearn.ensemble import RandomForestClassifier\n",
        "from sklearn.ensemble import GradientBoostingClassifier\n",
        "from sklearn.linear_model import LogisticRegression\n",
        "from sklearn.preprocessing import StandardScaler\n",
        "from sklearn.neighbors import KNeighborsClassifier\n",
        "\n",
        "from sklearn.metrics import (f1_score, roc_auc_score, precision_score, \n",
        "                             classification_report, precision_recall_curve, \n",
        "                             confusion_matrix, ConfusionMatrixDisplay, accuracy_score)\n",
        "\n",
        "import warnings\n",
        "warnings.filterwarnings('ignore')"
      ]
    },
    {
      "cell_type": "markdown",
      "source": [
        "качаем данные:"
      ],
      "metadata": {
        "id": "2bHie-KZXTnG"
      }
    },
    {
      "cell_type": "code",
      "source": [
        "#!wget 'https://drive.google.com/uc?export=download&id=1yIIxDfW7Wfq-wPlbsa0dFrSlD3r-Ai91' -O churn_data.csv"
      ],
      "metadata": {
        "id": "7Gu3tHjLXQeq"
      },
      "execution_count": 2,
      "outputs": []
    },
    {
      "cell_type": "markdown",
      "source": [
        "Соберём в одном месте разные тех.функции + один класс. Они помогут нам без дублирования кода считать метрики и собирать финансовый результат работы разных алгоритмов в единую сводную таблицу:"
      ],
      "metadata": {
        "id": "Eb-3DWveItk_"
      }
    },
    {
      "cell_type": "code",
      "source": [
        "def plot_confusion_matrix(cnf_matrix):\n",
        "    \"\"\"\n",
        "    функция для отрисовки confusion_matrix\n",
        "    \"\"\"\n",
        "    cmap = sns.color_palette('Purples')\n",
        "    plt.figure(figsize=(6, 4))\n",
        "    sns.heatmap(cnf_matrix, annot=True, cmap=cmap, fmt='g', linewidths=5, vmin=10)\n",
        "    plt.xlabel('предсказанные значения')\n",
        "    plt.ylabel('истинные значения')\n",
        "    accuracy = round((cnf_matrix[0,0]+cnf_matrix[1,1])/sum(sum(cnf_matrix))*100, 2)\n",
        "    plt.title(f'матрица ошибок (Accuracy: {accuracy}%)\\n'\n",
        "              f'[TN, FP]\\n[FN, TP]');\n",
        "\n",
        "\n",
        "def get_metrics(y_test, preds):\n",
        "    \"\"\"\n",
        "    подсчёт метрик\n",
        "    \"\"\"\n",
        "    precision, recall, thresholds = precision_recall_curve(y_test, preds)\n",
        "\n",
        "    fscore = (2 * precision * recall) / (precision + recall)\n",
        "    # поиск индекса наибольшего значения F\n",
        "    ix = np.argmax(fscore)\n",
        "    auc = roc_auc_score(y_test, preds)\n",
        "\n",
        "    return thresholds[ix], fscore[ix], precision[ix], recall[ix], roc_auc_score(y_test, preds)\n",
        "\n",
        "\n",
        "def financial_results(cnf_matrix, retention_cost=1, expected_profit=2):\n",
        "    \"\"\"\n",
        "    финансовый результат, значения для retention_cost expected_profit заданы дефолтные\n",
        "    \"\"\"\n",
        "    TN, FP = cnf_matrix[0][0], cnf_matrix[0][1]\n",
        "    FN, TP = cnf_matrix[1][0], cnf_matrix[1][1]\n",
        "    retain_sum = (FP+TP)*retention_cost\n",
        "    income = TP*expected_profit\n",
        "\n",
        "    return income - retain_sum\n",
        "\n",
        "\n",
        "def rename_keys(d, prefix):\n",
        "    \"\"\"\n",
        "    убрать префикс из названия ключа\n",
        "    \"\"\"\n",
        "    return {k.replace(prefix, ''): v for k, v in d.items()}\n",
        "\n",
        "\n",
        "# числа Фибоначчи\n",
        "fib = lambda n: reduce(lambda x, _: x + [x[-1] + x[-2]], range(n-2), [0, 1])\n",
        "\n",
        "\n",
        "class DataFrameEditor:\n",
        "    \"\"\"\n",
        "    класс формирует сводный датафрейм со значениями метрик\n",
        "    \"\"\"\n",
        "    def __init__(self, df=None):\n",
        "        if df is None:\n",
        "            self.df = pd.DataFrame(columns=['name_model', 'F-Score', 'Precision', \n",
        "                                            'Recall', 'ROC AUC', 'thresh', 'fin_result', \n",
        "                                            'best_thresh', 'best_fin_result'])\n",
        "        else:\n",
        "            self.df = df\n",
        "    \n",
        "    def add_row(self, values_dict):\n",
        "        \"\"\"\n",
        "        метод добавляет новые строки в датафрейм\n",
        "        \"\"\"\n",
        "        new_row = pd.DataFrame(values_dict, index=[0])\n",
        "        self.df = pd.concat([self.df, new_row], ignore_index=True)\n",
        "    \n",
        "    def model_performance_report(self, pipeline, X_train, X_test, y_train, y_test, \n",
        "                                 name_model, retention_cost=1, expected_profit=2):\n",
        "        \"\"\"\n",
        "        в методе обучается модель по переданным параметрам\n",
        "        \"\"\"\n",
        "        def get_fin(y_test, probs):\n",
        "            \"\"\"поиск лучшей отсечк для фин.результата\"\"\"\n",
        "            add_summ = []\n",
        "            thresholds = np.linspace(0, 1, 100)\n",
        "            for i in thresholds:\n",
        "                cnf_matrix = confusion_matrix(y_test, probs > i)\n",
        "                TN, FP = cnf_matrix[0][0], cnf_matrix[0][1]\n",
        "                FN, TP = cnf_matrix[1][0], cnf_matrix[1][1]\n",
        "                add_summ.append((TP*expected_profit) - ((FP+TP)*retention_cost))\n",
        "            ix = np.argmax(add_summ)\n",
        "            return thresholds[ix], add_summ[ix]\n",
        "            \n",
        "        # обучим пайплайн\n",
        "        pipeline.fit(X_train, y_train)\n",
        "        preds = pipeline.predict_proba(X_test)[:, 1]\n",
        "        # Подберём порог, после которого мы считаем, что объект можно отнести к классу 1 \n",
        "        thresholds, fscore, precision, recall, ROC_AUC = get_metrics(y_test, preds)\n",
        "        cnf_matrix = confusion_matrix(y_test, preds > thresholds)\n",
        "        plot_confusion_matrix(cnf_matrix)\n",
        "        fin_result = financial_results(cnf_matrix)\n",
        "\n",
        "        best_thresh, best_fin = get_fin(y_test, preds)\n",
        "\n",
        "        self.add_row({'name_model': name_model, 'F-Score': [fscore], 'Precision': [precision], \n",
        "                      'Recall': [recall], 'ROC AUC': [ROC_AUC], 'thresh': [thresholds], \n",
        "                      'fin_result': [fin_result], 'best_thresh': [best_thresh], 'best_fin_result': [best_fin]}) "
      ],
      "metadata": {
        "id": "j9gRT7mTmwpD"
      },
      "execution_count": 3,
      "outputs": []
    },
    {
      "cell_type": "markdown",
      "source": [
        "Смотрим на данные:"
      ],
      "metadata": {
        "id": "ITzoDfhFJQ8v"
      }
    },
    {
      "cell_type": "code",
      "source": [
        "df = pd.read_csv('churn_data.csv')\n",
        "df.head(3)"
      ],
      "metadata": {
        "colab": {
          "base_uri": "https://localhost:8080/",
          "height": 143
        },
        "id": "HzfLbqxrXVfL",
        "outputId": "f66bc554-2cbb-4d00-b87a-fd9f96a50c76"
      },
      "execution_count": 4,
      "outputs": [
        {
          "output_type": "execute_result",
          "data": {
            "text/plain": [
              "   RowNumber  CustomerId   Surname  CreditScore Geography  Gender  Age  \\\n",
              "0          1    15634602  Hargrave          619    France  Female   42   \n",
              "1          2    15647311      Hill          608     Spain  Female   41   \n",
              "2          3    15619304      Onio          502    France  Female   42   \n",
              "\n",
              "   Tenure    Balance  NumOfProducts  HasCrCard  IsActiveMember  \\\n",
              "0       2       0.00              1          1               1   \n",
              "1       1   83807.86              1          0               1   \n",
              "2       8  159660.80              3          1               0   \n",
              "\n",
              "   EstimatedSalary  Exited  \n",
              "0        101348.88       1  \n",
              "1        112542.58       0  \n",
              "2        113931.57       1  "
            ],
            "text/html": [
              "\n",
              "  <div id=\"df-46de0fed-f825-47f2-a1bf-7b02da619f6b\">\n",
              "    <div class=\"colab-df-container\">\n",
              "      <div>\n",
              "<style scoped>\n",
              "    .dataframe tbody tr th:only-of-type {\n",
              "        vertical-align: middle;\n",
              "    }\n",
              "\n",
              "    .dataframe tbody tr th {\n",
              "        vertical-align: top;\n",
              "    }\n",
              "\n",
              "    .dataframe thead th {\n",
              "        text-align: right;\n",
              "    }\n",
              "</style>\n",
              "<table border=\"1\" class=\"dataframe\">\n",
              "  <thead>\n",
              "    <tr style=\"text-align: right;\">\n",
              "      <th></th>\n",
              "      <th>RowNumber</th>\n",
              "      <th>CustomerId</th>\n",
              "      <th>Surname</th>\n",
              "      <th>CreditScore</th>\n",
              "      <th>Geography</th>\n",
              "      <th>Gender</th>\n",
              "      <th>Age</th>\n",
              "      <th>Tenure</th>\n",
              "      <th>Balance</th>\n",
              "      <th>NumOfProducts</th>\n",
              "      <th>HasCrCard</th>\n",
              "      <th>IsActiveMember</th>\n",
              "      <th>EstimatedSalary</th>\n",
              "      <th>Exited</th>\n",
              "    </tr>\n",
              "  </thead>\n",
              "  <tbody>\n",
              "    <tr>\n",
              "      <th>0</th>\n",
              "      <td>1</td>\n",
              "      <td>15634602</td>\n",
              "      <td>Hargrave</td>\n",
              "      <td>619</td>\n",
              "      <td>France</td>\n",
              "      <td>Female</td>\n",
              "      <td>42</td>\n",
              "      <td>2</td>\n",
              "      <td>0.00</td>\n",
              "      <td>1</td>\n",
              "      <td>1</td>\n",
              "      <td>1</td>\n",
              "      <td>101348.88</td>\n",
              "      <td>1</td>\n",
              "    </tr>\n",
              "    <tr>\n",
              "      <th>1</th>\n",
              "      <td>2</td>\n",
              "      <td>15647311</td>\n",
              "      <td>Hill</td>\n",
              "      <td>608</td>\n",
              "      <td>Spain</td>\n",
              "      <td>Female</td>\n",
              "      <td>41</td>\n",
              "      <td>1</td>\n",
              "      <td>83807.86</td>\n",
              "      <td>1</td>\n",
              "      <td>0</td>\n",
              "      <td>1</td>\n",
              "      <td>112542.58</td>\n",
              "      <td>0</td>\n",
              "    </tr>\n",
              "    <tr>\n",
              "      <th>2</th>\n",
              "      <td>3</td>\n",
              "      <td>15619304</td>\n",
              "      <td>Onio</td>\n",
              "      <td>502</td>\n",
              "      <td>France</td>\n",
              "      <td>Female</td>\n",
              "      <td>42</td>\n",
              "      <td>8</td>\n",
              "      <td>159660.80</td>\n",
              "      <td>3</td>\n",
              "      <td>1</td>\n",
              "      <td>0</td>\n",
              "      <td>113931.57</td>\n",
              "      <td>1</td>\n",
              "    </tr>\n",
              "  </tbody>\n",
              "</table>\n",
              "</div>\n",
              "      <button class=\"colab-df-convert\" onclick=\"convertToInteractive('df-46de0fed-f825-47f2-a1bf-7b02da619f6b')\"\n",
              "              title=\"Convert this dataframe to an interactive table.\"\n",
              "              style=\"display:none;\">\n",
              "        \n",
              "  <svg xmlns=\"http://www.w3.org/2000/svg\" height=\"24px\"viewBox=\"0 0 24 24\"\n",
              "       width=\"24px\">\n",
              "    <path d=\"M0 0h24v24H0V0z\" fill=\"none\"/>\n",
              "    <path d=\"M18.56 5.44l.94 2.06.94-2.06 2.06-.94-2.06-.94-.94-2.06-.94 2.06-2.06.94zm-11 1L8.5 8.5l.94-2.06 2.06-.94-2.06-.94L8.5 2.5l-.94 2.06-2.06.94zm10 10l.94 2.06.94-2.06 2.06-.94-2.06-.94-.94-2.06-.94 2.06-2.06.94z\"/><path d=\"M17.41 7.96l-1.37-1.37c-.4-.4-.92-.59-1.43-.59-.52 0-1.04.2-1.43.59L10.3 9.45l-7.72 7.72c-.78.78-.78 2.05 0 2.83L4 21.41c.39.39.9.59 1.41.59.51 0 1.02-.2 1.41-.59l7.78-7.78 2.81-2.81c.8-.78.8-2.07 0-2.86zM5.41 20L4 18.59l7.72-7.72 1.47 1.35L5.41 20z\"/>\n",
              "  </svg>\n",
              "      </button>\n",
              "      \n",
              "  <style>\n",
              "    .colab-df-container {\n",
              "      display:flex;\n",
              "      flex-wrap:wrap;\n",
              "      gap: 12px;\n",
              "    }\n",
              "\n",
              "    .colab-df-convert {\n",
              "      background-color: #E8F0FE;\n",
              "      border: none;\n",
              "      border-radius: 50%;\n",
              "      cursor: pointer;\n",
              "      display: none;\n",
              "      fill: #1967D2;\n",
              "      height: 32px;\n",
              "      padding: 0 0 0 0;\n",
              "      width: 32px;\n",
              "    }\n",
              "\n",
              "    .colab-df-convert:hover {\n",
              "      background-color: #E2EBFA;\n",
              "      box-shadow: 0px 1px 2px rgba(60, 64, 67, 0.3), 0px 1px 3px 1px rgba(60, 64, 67, 0.15);\n",
              "      fill: #174EA6;\n",
              "    }\n",
              "\n",
              "    [theme=dark] .colab-df-convert {\n",
              "      background-color: #3B4455;\n",
              "      fill: #D2E3FC;\n",
              "    }\n",
              "\n",
              "    [theme=dark] .colab-df-convert:hover {\n",
              "      background-color: #434B5C;\n",
              "      box-shadow: 0px 1px 3px 1px rgba(0, 0, 0, 0.15);\n",
              "      filter: drop-shadow(0px 1px 2px rgba(0, 0, 0, 0.3));\n",
              "      fill: #FFFFFF;\n",
              "    }\n",
              "  </style>\n",
              "\n",
              "      <script>\n",
              "        const buttonEl =\n",
              "          document.querySelector('#df-46de0fed-f825-47f2-a1bf-7b02da619f6b button.colab-df-convert');\n",
              "        buttonEl.style.display =\n",
              "          google.colab.kernel.accessAllowed ? 'block' : 'none';\n",
              "\n",
              "        async function convertToInteractive(key) {\n",
              "          const element = document.querySelector('#df-46de0fed-f825-47f2-a1bf-7b02da619f6b');\n",
              "          const dataTable =\n",
              "            await google.colab.kernel.invokeFunction('convertToInteractive',\n",
              "                                                     [key], {});\n",
              "          if (!dataTable) return;\n",
              "\n",
              "          const docLinkHtml = 'Like what you see? Visit the ' +\n",
              "            '<a target=\"_blank\" href=https://colab.research.google.com/notebooks/data_table.ipynb>data table notebook</a>'\n",
              "            + ' to learn more about interactive tables.';\n",
              "          element.innerHTML = '';\n",
              "          dataTable['output_type'] = 'display_data';\n",
              "          await google.colab.output.renderOutput(dataTable, element);\n",
              "          const docLink = document.createElement('div');\n",
              "          docLink.innerHTML = docLinkHtml;\n",
              "          element.appendChild(docLink);\n",
              "        }\n",
              "      </script>\n",
              "    </div>\n",
              "  </div>\n",
              "  "
            ]
          },
          "metadata": {},
          "execution_count": 4
        }
      ]
    },
    {
      "cell_type": "code",
      "source": [
        "df.select_dtypes(include=np.number).hist(figsize=(8, 8), color='#D2B4DE', ec='#5B2C6F')\n",
        "plt.subplots_adjust(hspace=0.5);"
      ],
      "metadata": {
        "colab": {
          "base_uri": "https://localhost:8080/",
          "height": 699
        },
        "id": "L13yBSkWJUKm",
        "outputId": "ae71b3c0-78de-4e5e-cc73-4b2abf3d766a"
      },
      "execution_count": 5,
      "outputs": [
        {
          "output_type": "display_data",
          "data": {
            "text/plain": [
              "<Figure size 800x800 with 12 Axes>"
            ],
            "image/png": "[encoded data removed]"
          },
          "metadata": {}
        }
      ]
    },
    {
      "cell_type": "markdown",
      "source": [
        "Есть как категориальные, так и вещественные признаки. \n",
        "\n",
        "Посмотрим на распределение классов:"
      ],
      "metadata": {
        "id": "aWfUrxZMXfze"
      }
    },
    {
      "cell_type": "code",
      "source": [
        "df['Exited'].value_counts()"
      ],
      "metadata": {
        "colab": {
          "base_uri": "https://localhost:8080/"
        },
        "id": "P9JxwpNIXZvU",
        "outputId": "09d4a3de-2722-4b3b-ef89-4a57d66a594c"
      },
      "execution_count": 6,
      "outputs": [
        {
          "output_type": "execute_result",
          "data": {
            "text/plain": [
              "0    7963\n",
              "1    2037\n",
              "Name: Exited, dtype: int64"
            ]
          },
          "metadata": {},
          "execution_count": 6
        }
      ]
    },
    {
      "cell_type": "markdown",
      "source": [
        "Распределение 1 к 4\n",
        "\n",
        "Разобьём данные:"
      ],
      "metadata": {
        "id": "TySlQeEtXkl7"
      }
    },
    {
      "cell_type": "code",
      "source": [
        "#разделим данные на train/test\n",
        "random_state=0\n",
        "X_train, X_test, y_train, y_test = train_test_split(df.drop(columns='Exited'), \n",
        "                                                    df['Exited'], \n",
        "                                                    random_state=random_state)"
      ],
      "metadata": {
        "id": "wjRlEB8zXh8J"
      },
      "execution_count": 7,
      "outputs": []
    },
    {
      "cell_type": "markdown",
      "source": [
        "Категориальные признаки закодируем с помощью OneHotEncoding, а вещественные оставим как есть:"
      ],
      "metadata": {
        "id": "QHacCR7mYL8h"
      }
    },
    {
      "cell_type": "code",
      "source": [
        "class FeatureSelector(BaseEstimator, TransformerMixin):\n",
        "    def __init__(self, column):\n",
        "        self.column = column\n",
        "\n",
        "    def fit(self, X, y=None):\n",
        "        return self\n",
        "\n",
        "    def transform(self, X, y=None):\n",
        "        return X[self.column]\n",
        "    \n",
        "\n",
        "class NumberSelector(BaseEstimator, TransformerMixin):\n",
        "    \"\"\"\n",
        "    Трансформатор для выбора одного столбца из таблицы данных для выполнения \n",
        "    дополнительных преобразований. Используется для числовых столбцов в данных.\n",
        "    \"\"\"\n",
        "    def __init__(self, key):\n",
        "        self.key = key\n",
        "\n",
        "    def fit(self, X, y=None):\n",
        "        return self\n",
        "\n",
        "    def transform(self, X):\n",
        "        return X[[self.key]]\n",
        "    \n",
        "    \n",
        "class OHEEncoder(BaseEstimator, TransformerMixin):\n",
        "    def __init__(self, key):\n",
        "        self.key = key\n",
        "        self.columns = []\n",
        "\n",
        "    def fit(self, X, y=None):\n",
        "        self.columns = [col for col in pd.get_dummies(X, prefix=self.key).columns]\n",
        "        return self\n",
        "    \n",
        "    def transform(self, X):\n",
        "        X = pd.get_dummies(X, prefix=self.key)\n",
        "        test_columns = [col for col in X.columns]\n",
        "        \n",
        "        for col_ in self.columns:\n",
        "            if col_ not in test_columns:\n",
        "                X[col_] = 0\n",
        "        return X[self.columns]"
      ],
      "metadata": {
        "id": "FbMoulk9YHaW"
      },
      "execution_count": 8,
      "outputs": []
    },
    {
      "cell_type": "markdown",
      "source": [
        "Зададим списки признаков:"
      ],
      "metadata": {
        "id": "ZENQyIzDYRbv"
      }
    },
    {
      "cell_type": "code",
      "source": [
        "categorical_columns = ['Geography', 'Gender', 'Tenure', 'HasCrCard', 'IsActiveMember']\n",
        "continuous_columns = ['CreditScore', 'Age', 'Balance', 'NumOfProducts', 'EstimatedSalary']"
      ],
      "metadata": {
        "id": "h6B4_CajYNrC"
      },
      "execution_count": 9,
      "outputs": []
    },
    {
      "cell_type": "markdown",
      "source": [
        "Создадим под каждый признак трансформер и объединим их в список ```final_transformers``` и объединим результат в единый пайплайн, который готовит признаки для моделирования:"
      ],
      "metadata": {
        "id": "VOFQhZLAZBqb"
      }
    },
    {
      "cell_type": "code",
      "source": [
        "final_transformers = list()\n",
        "\n",
        "for cat_col in categorical_columns:\n",
        "    cat_transformer = Pipeline([\n",
        "                ('selector', FeatureSelector(column=cat_col)),\n",
        "                ('ohe', OHEEncoder(key=cat_col))])\n",
        "    final_transformers.append((cat_col, cat_transformer))\n",
        "    \n",
        "for cont_col in continuous_columns:\n",
        "    cont_transformer = Pipeline([\n",
        "                ('selector', NumberSelector(key=cont_col)),\n",
        "                ('scaler', StandardScaler())])\n",
        "    final_transformers.append((cont_col, cont_transformer))\n",
        "\n",
        "feats = FeatureUnion(final_transformers)\n",
        "feature_processing = Pipeline([('feats', feats)])"
      ],
      "metadata": {
        "id": "KYcT3S12YTAV"
      },
      "execution_count": 10,
      "outputs": []
    },
    {
      "cell_type": "markdown",
      "source": [
        "## теперь рассмотрим разные модели, соберём метрики в единую таблицу и посмотрим, будут ли они в потенциале экономически целесообразными.\n",
        "\n",
        "Алгоритмы, которые мы будем использовать:\n",
        "\n",
        "1) **```RandomForestClassifier```** - дефолтные параметры и с подбором параметров\n",
        "\n",
        "2) **```GradientBoostingClassifier```** - дефолтные параметры и с подбором параметров\n",
        "\n",
        "3) **```LogisticRegression```** - дефолтные параметры и с подбором параметров\n",
        "\n",
        "4) **```KNeighborsClassifier```** - дефолтные параметры и с подбором параметров\n"
      ],
      "metadata": {
        "id": "CL04RaRMHgIN"
      }
    },
    {
      "cell_type": "markdown",
      "source": [
        "Напомним себе вводные финансовых показателей:\n",
        "\n",
        "**- удержание одного пользователя уйдет 1 доллар.** \n",
        "\n",
        "**- средняя ожидаемая прибыль с каждого TP (true positive) = 2 доллара**"
      ],
      "metadata": {
        "id": "Uvm3qmf6nSKB"
      }
    },
    {
      "cell_type": "markdown",
      "source": [
        "______\n",
        "______"
      ],
      "metadata": {
        "id": "XYBvR_CrOH7n"
      }
    },
    {
      "cell_type": "markdown",
      "source": [
        "## **RandomForestClassifier**"
      ],
      "metadata": {
        "id": "DoJyFERcOPW8"
      }
    },
    {
      "cell_type": "markdown",
      "source": [
        "дефолтные параметры:"
      ],
      "metadata": {
        "id": "FMgcYl0cOYO9"
      }
    },
    {
      "cell_type": "code",
      "source": [
        "pipeline = Pipeline([\n",
        "    ('features', feats),\n",
        "    ('classifier', RandomForestClassifier(random_state=random_state)),\n",
        "])\n",
        "\n",
        "df_editor = DataFrameEditor()\n",
        "df_editor.model_performance_report(pipeline, X_train, X_test, y_train, y_test, \n",
        "                                   'RandomForest')\n",
        "df_editor.df.iloc[[-1]]"
      ],
      "metadata": {
        "id": "5N3ZaCvDZJHA",
        "colab": {
          "base_uri": "https://localhost:8080/",
          "height": 516
        },
        "outputId": "c122eb45-fd4c-4f7b-9176-7c8757f02f65"
      },
      "execution_count": 11,
      "outputs": [
        {
          "output_type": "execute_result",
          "data": {
            "text/plain": [
              "     name_model  F-Score  Precision   Recall   ROC AUC  thresh fin_result  \\\n",
              "0  RandomForest  0.64833    0.64833  0.64833  0.861554    0.37        155   \n",
              "\n",
              "   best_thresh best_fin_result  \n",
              "0     0.484848             184  "
            ],
            "text/html": [
              "\n",
              "  <div id=\"df-8a797d72-54be-46c7-becf-36fa140128ec\">\n",
              "    <div class=\"colab-df-container\">\n",
              "      <div>\n",
              "<style scoped>\n",
              "    .dataframe tbody tr th:only-of-type {\n",
              "        vertical-align: middle;\n",
              "    }\n",
              "\n",
              "    .dataframe tbody tr th {\n",
              "        vertical-align: top;\n",
              "    }\n",
              "\n",
              "    .dataframe thead th {\n",
              "        text-align: right;\n",
              "    }\n",
              "</style>\n",
              "<table border=\"1\" class=\"dataframe\">\n",
              "  <thead>\n",
              "    <tr style=\"text-align: right;\">\n",
              "      <th></th>\n",
              "      <th>name_model</th>\n",
              "      <th>F-Score</th>\n",
              "      <th>Precision</th>\n",
              "      <th>Recall</th>\n",
              "      <th>ROC AUC</th>\n",
              "      <th>thresh</th>\n",
              "      <th>fin_result</th>\n",
              "      <th>best_thresh</th>\n",
              "      <th>best_fin_result</th>\n",
              "    </tr>\n",
              "  </thead>\n",
              "  <tbody>\n",
              "    <tr>\n",
              "      <th>0</th>\n",
              "      <td>RandomForest</td>\n",
              "      <td>0.64833</td>\n",
              "      <td>0.64833</td>\n",
              "      <td>0.64833</td>\n",
              "      <td>0.861554</td>\n",
              "      <td>0.37</td>\n",
              "      <td>155</td>\n",
              "      <td>0.484848</td>\n",
              "      <td>184</td>\n",
              "    </tr>\n",
              "  </tbody>\n",
              "</table>\n",
              "</div>\n",
              "      <button class=\"colab-df-convert\" onclick=\"convertToInteractive('df-8a797d72-54be-46c7-becf-36fa140128ec')\"\n",
              "              title=\"Convert this dataframe to an interactive table.\"\n",
              "              style=\"display:none;\">\n",
              "        \n",
              "  <svg xmlns=\"http://www.w3.org/2000/svg\" height=\"24px\"viewBox=\"0 0 24 24\"\n",
              "       width=\"24px\">\n",
              "    <path d=\"M0 0h24v24H0V0z\" fill=\"none\"/>\n",
              "    <path d=\"M18.56 5.44l.94 2.06.94-2.06 2.06-.94-2.06-.94-.94-2.06-.94 2.06-2.06.94zm-11 1L8.5 8.5l.94-2.06 2.06-.94-2.06-.94L8.5 2.5l-.94 2.06-2.06.94zm10 10l.94 2.06.94-2.06 2.06-.94-2.06-.94-.94-2.06-.94 2.06-2.06.94z\"/><path d=\"M17.41 7.96l-1.37-1.37c-.4-.4-.92-.59-1.43-.59-.52 0-1.04.2-1.43.59L10.3 9.45l-7.72 7.72c-.78.78-.78 2.05 0 2.83L4 21.41c.39.39.9.59 1.41.59.51 0 1.02-.2 1.41-.59l7.78-7.78 2.81-2.81c.8-.78.8-2.07 0-2.86zM5.41 20L4 18.59l7.72-7.72 1.47 1.35L5.41 20z\"/>\n",
              "  </svg>\n",
              "      </button>\n",
              "      \n",
              "  <style>\n",
              "    .colab-df-container {\n",
              "      display:flex;\n",
              "      flex-wrap:wrap;\n",
              "      gap: 12px;\n",
              "    }\n",
              "\n",
              "    .colab-df-convert {\n",
              "      background-color: #E8F0FE;\n",
              "      border: none;\n",
              "      border-radius: 50%;\n",
              "      cursor: pointer;\n",
              "      display: none;\n",
              "      fill: #1967D2;\n",
              "      height: 32px;\n",
              "      padding: 0 0 0 0;\n",
              "      width: 32px;\n",
              "    }\n",
              "\n",
              "    .colab-df-convert:hover {\n",
              "      background-color: #E2EBFA;\n",
              "      box-shadow: 0px 1px 2px rgba(60, 64, 67, 0.3), 0px 1px 3px 1px rgba(60, 64, 67, 0.15);\n",
              "      fill: #174EA6;\n",
              "    }\n",
              "\n",
              "    [theme=dark] .colab-df-convert {\n",
              "      background-color: #3B4455;\n",
              "      fill: #D2E3FC;\n",
              "    }\n",
              "\n",
              "    [theme=dark] .colab-df-convert:hover {\n",
              "      background-color: #434B5C;\n",
              "      box-shadow: 0px 1px 3px 1px rgba(0, 0, 0, 0.15);\n",
              "      filter: drop-shadow(0px 1px 2px rgba(0, 0, 0, 0.3));\n",
              "      fill: #FFFFFF;\n",
              "    }\n",
              "  </style>\n",
              "\n",
              "      <script>\n",
              "        const buttonEl =\n",
              "          document.querySelector('#df-8a797d72-54be-46c7-becf-36fa140128ec button.colab-df-convert');\n",
              "        buttonEl.style.display =\n",
              "          google.colab.kernel.accessAllowed ? 'block' : 'none';\n",
              "\n",
              "        async function convertToInteractive(key) {\n",
              "          const element = document.querySelector('#df-8a797d72-54be-46c7-becf-36fa140128ec');\n",
              "          const dataTable =\n",
              "            await google.colab.kernel.invokeFunction('convertToInteractive',\n",
              "                                                     [key], {});\n",
              "          if (!dataTable) return;\n",
              "\n",
              "          const docLinkHtml = 'Like what you see? Visit the ' +\n",
              "            '<a target=\"_blank\" href=https://colab.research.google.com/notebooks/data_table.ipynb>data table notebook</a>'\n",
              "            + ' to learn more about interactive tables.';\n",
              "          element.innerHTML = '';\n",
              "          dataTable['output_type'] = 'display_data';\n",
              "          await google.colab.output.renderOutput(dataTable, element);\n",
              "          const docLink = document.createElement('div');\n",
              "          docLink.innerHTML = docLinkHtml;\n",
              "          element.appendChild(docLink);\n",
              "        }\n",
              "      </script>\n",
              "    </div>\n",
              "  </div>\n",
              "  "
            ]
          },
          "metadata": {},
          "execution_count": 11
        },
        {
          "output_type": "display_data",
          "data": {
            "text/plain": [
              "<Figure size 600x400 with 2 Axes>"
            ],
            "image/png": "[encoded data removed]"
          },
          "metadata": {}
        }
      ]
    },
    {
      "cell_type": "markdown",
      "source": [
        "параметры через перебор с помощью GridSearch:"
      ],
      "metadata": {
        "id": "o2NwCzR1nW0u"
      }
    },
    {
      "cell_type": "code",
      "source": [
        "%%time\n",
        "params = {\n",
        "    'classifier__max_features': np.linspace(0, 1, 5),\n",
        "    'classifier__min_samples_leaf': range(1, 3),\n",
        "    'classifier__class_weight': [{0:1, 1:4}, 'balanced_subsample'],\n",
        "    'classifier__n_estimators': fib(14)[2:]  # range(1, 220, 100) \n",
        "}\n",
        "\n",
        "grid = GridSearchCV(pipeline, param_grid=params, cv=6, refit=False, n_jobs=-1)\n",
        "search = grid.fit(X_train, y_train)\n",
        "search.best_params_"
      ],
      "metadata": {
        "colab": {
          "base_uri": "https://localhost:8080/"
        },
        "id": "kqyA3HxsOhUL",
        "outputId": "5f9499a9-d7d5-4011-e633-095e4458019f"
      },
      "execution_count": 12,
      "outputs": [
        {
          "output_type": "stream",
          "name": "stdout",
          "text": [
            "CPU times: user 24.5 s, sys: 1.6 s, total: 26.1 s\n",
            "Wall time: 16min 46s\n"
          ]
        },
        {
          "output_type": "execute_result",
          "data": {
            "text/plain": [
              "{'classifier__class_weight': {0: 1, 1: 4},\n",
              " 'classifier__max_features': 0.25,\n",
              " 'classifier__min_samples_leaf': 1,\n",
              " 'classifier__n_estimators': 233}"
            ]
          },
          "metadata": {},
          "execution_count": 12
        }
      ]
    },
    {
      "cell_type": "code",
      "source": [
        "best_params = rename_keys(search.best_params_, 'classifier__')\n",
        "pipeline = Pipeline([\n",
        "    ('features', feats),\n",
        "    ('classifier', RandomForestClassifier(**best_params, random_state=random_state)),\n",
        "])\n",
        "\n",
        "df_editor.model_performance_report(pipeline, X_train, X_test, y_train, y_test, \n",
        "                                   'RandomForest BEST_param')\n",
        "df_editor.df.iloc[[-1]]"
      ],
      "metadata": {
        "id": "_oeE9P2oPTDI",
        "colab": {
          "base_uri": "https://localhost:8080/",
          "height": 516
        },
        "outputId": "b5f2d18c-2e00-42fe-d020-034283633c92"
      },
      "execution_count": 13,
      "outputs": [
        {
          "output_type": "execute_result",
          "data": {
            "text/plain": [
              "                name_model   F-Score  Precision    Recall   ROC AUC    thresh  \\\n",
              "1  RandomForest BEST_param  0.652482    0.67364  0.632613  0.868522  0.373391   \n",
              "\n",
              "  fin_result  best_thresh best_fin_result  \n",
              "1        163     0.434343             181  "
            ],
            "text/html": [
              "\n",
              "  <div id=\"df-5bdeb786-984b-4893-8c8e-c9279923c31d\">\n",
              "    <div class=\"colab-df-container\">\n",
              "      <div>\n",
              "<style scoped>\n",
              "    .dataframe tbody tr th:only-of-type {\n",
              "        vertical-align: middle;\n",
              "    }\n",
              "\n",
              "    .dataframe tbody tr th {\n",
              "        vertical-align: top;\n",
              "    }\n",
              "\n",
              "    .dataframe thead th {\n",
              "        text-align: right;\n",
              "    }\n",
              "</style>\n",
              "<table border=\"1\" class=\"dataframe\">\n",
              "  <thead>\n",
              "    <tr style=\"text-align: right;\">\n",
              "      <th></th>\n",
              "      <th>name_model</th>\n",
              "      <th>F-Score</th>\n",
              "      <th>Precision</th>\n",
              "      <th>Recall</th>\n",
              "      <th>ROC AUC</th>\n",
              "      <th>thresh</th>\n",
              "      <th>fin_result</th>\n",
              "      <th>best_thresh</th>\n",
              "      <th>best_fin_result</th>\n",
              "    </tr>\n",
              "  </thead>\n",
              "  <tbody>\n",
              "    <tr>\n",
              "      <th>1</th>\n",
              "      <td>RandomForest BEST_param</td>\n",
              "      <td>0.652482</td>\n",
              "      <td>0.67364</td>\n",
              "      <td>0.632613</td>\n",
              "      <td>0.868522</td>\n",
              "      <td>0.373391</td>\n",
              "      <td>163</td>\n",
              "      <td>0.434343</td>\n",
              "      <td>181</td>\n",
              "    </tr>\n",
              "  </tbody>\n",
              "</table>\n",
              "</div>\n",
              "      <button class=\"colab-df-convert\" onclick=\"convertToInteractive('df-5bdeb786-984b-4893-8c8e-c9279923c31d')\"\n",
              "              title=\"Convert this dataframe to an interactive table.\"\n",
              "              style=\"display:none;\">\n",
              "        \n",
              "  <svg xmlns=\"http://www.w3.org/2000/svg\" height=\"24px\"viewBox=\"0 0 24 24\"\n",
              "       width=\"24px\">\n",
              "    <path d=\"M0 0h24v24H0V0z\" fill=\"none\"/>\n",
              "    <path d=\"M18.56 5.44l.94 2.06.94-2.06 2.06-.94-2.06-.94-.94-2.06-.94 2.06-2.06.94zm-11 1L8.5 8.5l.94-2.06 2.06-.94-2.06-.94L8.5 2.5l-.94 2.06-2.06.94zm10 10l.94 2.06.94-2.06 2.06-.94-2.06-.94-.94-2.06-.94 2.06-2.06.94z\"/><path d=\"M17.41 7.96l-1.37-1.37c-.4-.4-.92-.59-1.43-.59-.52 0-1.04.2-1.43.59L10.3 9.45l-7.72 7.72c-.78.78-.78 2.05 0 2.83L4 21.41c.39.39.9.59 1.41.59.51 0 1.02-.2 1.41-.59l7.78-7.78 2.81-2.81c.8-.78.8-2.07 0-2.86zM5.41 20L4 18.59l7.72-7.72 1.47 1.35L5.41 20z\"/>\n",
              "  </svg>\n",
              "      </button>\n",
              "      \n",
              "  <style>\n",
              "    .colab-df-container {\n",
              "      display:flex;\n",
              "      flex-wrap:wrap;\n",
              "      gap: 12px;\n",
              "    }\n",
              "\n",
              "    .colab-df-convert {\n",
              "      background-color: #E8F0FE;\n",
              "      border: none;\n",
              "      border-radius: 50%;\n",
              "      cursor: pointer;\n",
              "      display: none;\n",
              "      fill: #1967D2;\n",
              "      height: 32px;\n",
              "      padding: 0 0 0 0;\n",
              "      width: 32px;\n",
              "    }\n",
              "\n",
              "    .colab-df-convert:hover {\n",
              "      background-color: #E2EBFA;\n",
              "      box-shadow: 0px 1px 2px rgba(60, 64, 67, 0.3), 0px 1px 3px 1px rgba(60, 64, 67, 0.15);\n",
              "      fill: #174EA6;\n",
              "    }\n",
              "\n",
              "    [theme=dark] .colab-df-convert {\n",
              "      background-color: #3B4455;\n",
              "      fill: #D2E3FC;\n",
              "    }\n",
              "\n",
              "    [theme=dark] .colab-df-convert:hover {\n",
              "      background-color: #434B5C;\n",
              "      box-shadow: 0px 1px 3px 1px rgba(0, 0, 0, 0.15);\n",
              "      filter: drop-shadow(0px 1px 2px rgba(0, 0, 0, 0.3));\n",
              "      fill: #FFFFFF;\n",
              "    }\n",
              "  </style>\n",
              "\n",
              "      <script>\n",
              "        const buttonEl =\n",
              "          document.querySelector('#df-5bdeb786-984b-4893-8c8e-c9279923c31d button.colab-df-convert');\n",
              "        buttonEl.style.display =\n",
              "          google.colab.kernel.accessAllowed ? 'block' : 'none';\n",
              "\n",
              "        async function convertToInteractive(key) {\n",
              "          const element = document.querySelector('#df-5bdeb786-984b-4893-8c8e-c9279923c31d');\n",
              "          const dataTable =\n",
              "            await google.colab.kernel.invokeFunction('convertToInteractive',\n",
              "                                                     [key], {});\n",
              "          if (!dataTable) return;\n",
              "\n",
              "          const docLinkHtml = 'Like what you see? Visit the ' +\n",
              "            '<a target=\"_blank\" href=https://colab.research.google.com/notebooks/data_table.ipynb>data table notebook</a>'\n",
              "            + ' to learn more about interactive tables.';\n",
              "          element.innerHTML = '';\n",
              "          dataTable['output_type'] = 'display_data';\n",
              "          await google.colab.output.renderOutput(dataTable, element);\n",
              "          const docLink = document.createElement('div');\n",
              "          docLink.innerHTML = docLinkHtml;\n",
              "          element.appendChild(docLink);\n",
              "        }\n",
              "      </script>\n",
              "    </div>\n",
              "  </div>\n",
              "  "
            ]
          },
          "metadata": {},
          "execution_count": 13
        },
        {
          "output_type": "display_data",
          "data": {
            "text/plain": [
              "<Figure size 600x400 with 2 Axes>"
            ],
            "image/png": "[encoded data removed]"
          },
          "metadata": {}
        }
      ]
    },
    {
      "cell_type": "markdown",
      "source": [
        "_____"
      ],
      "metadata": {
        "id": "teIP-hRwO5tn"
      }
    },
    {
      "cell_type": "markdown",
      "source": [
        "## **GradientBoostingClassifier**"
      ],
      "metadata": {
        "id": "jpRG8dyvZkB8"
      }
    },
    {
      "cell_type": "markdown",
      "source": [
        "дефолтные параметры:"
      ],
      "metadata": {
        "id": "TzAU8aQWOty-"
      }
    },
    {
      "cell_type": "code",
      "source": [
        "pipeline = Pipeline([\n",
        "    ('features', feats),\n",
        "    ('classifier', GradientBoostingClassifier(random_state=random_state)),\n",
        "])\n",
        "\n",
        "df_editor.model_performance_report(pipeline, X_train, X_test, y_train, y_test, \n",
        "                                   'GradientBoosting')\n",
        "df_editor.df.iloc[[-1]]"
      ],
      "metadata": {
        "id": "GYysNxNVP1FJ",
        "colab": {
          "base_uri": "https://localhost:8080/",
          "height": 516
        },
        "outputId": "e6ef4d9a-f353-4a68-c899-61e8f0eb1d7a"
      },
      "execution_count": 14,
      "outputs": [
        {
          "output_type": "execute_result",
          "data": {
            "text/plain": [
              "         name_model   F-Score  Precision   Recall   ROC AUC    thresh  \\\n",
              "2  GradientBoosting  0.646121   0.703704  0.59725  0.875753  0.408508   \n",
              "\n",
              "  fin_result  best_thresh best_fin_result  \n",
              "2        175     0.535354             190  "
            ],
            "text/html": [
              "\n",
              "  <div id=\"df-17ea12c0-9c4b-467b-bc18-d0e977ee0ec5\">\n",
              "    <div class=\"colab-df-container\">\n",
              "      <div>\n",
              "<style scoped>\n",
              "    .dataframe tbody tr th:only-of-type {\n",
              "        vertical-align: middle;\n",
              "    }\n",
              "\n",
              "    .dataframe tbody tr th {\n",
              "        vertical-align: top;\n",
              "    }\n",
              "\n",
              "    .dataframe thead th {\n",
              "        text-align: right;\n",
              "    }\n",
              "</style>\n",
              "<table border=\"1\" class=\"dataframe\">\n",
              "  <thead>\n",
              "    <tr style=\"text-align: right;\">\n",
              "      <th></th>\n",
              "      <th>name_model</th>\n",
              "      <th>F-Score</th>\n",
              "      <th>Precision</th>\n",
              "      <th>Recall</th>\n",
              "      <th>ROC AUC</th>\n",
              "      <th>thresh</th>\n",
              "      <th>fin_result</th>\n",
              "      <th>best_thresh</th>\n",
              "      <th>best_fin_result</th>\n",
              "    </tr>\n",
              "  </thead>\n",
              "  <tbody>\n",
              "    <tr>\n",
              "      <th>2</th>\n",
              "      <td>GradientBoosting</td>\n",
              "      <td>0.646121</td>\n",
              "      <td>0.703704</td>\n",
              "      <td>0.59725</td>\n",
              "      <td>0.875753</td>\n",
              "      <td>0.408508</td>\n",
              "      <td>175</td>\n",
              "      <td>0.535354</td>\n",
              "      <td>190</td>\n",
              "    </tr>\n",
              "  </tbody>\n",
              "</table>\n",
              "</div>\n",
              "      <button class=\"colab-df-convert\" onclick=\"convertToInteractive('df-17ea12c0-9c4b-467b-bc18-d0e977ee0ec5')\"\n",
              "              title=\"Convert this dataframe to an interactive table.\"\n",
              "              style=\"display:none;\">\n",
              "        \n",
              "  <svg xmlns=\"http://www.w3.org/2000/svg\" height=\"24px\"viewBox=\"0 0 24 24\"\n",
              "       width=\"24px\">\n",
              "    <path d=\"M0 0h24v24H0V0z\" fill=\"none\"/>\n",
              "    <path d=\"M18.56 5.44l.94 2.06.94-2.06 2.06-.94-2.06-.94-.94-2.06-.94 2.06-2.06.94zm-11 1L8.5 8.5l.94-2.06 2.06-.94-2.06-.94L8.5 2.5l-.94 2.06-2.06.94zm10 10l.94 2.06.94-2.06 2.06-.94-2.06-.94-.94-2.06-.94 2.06-2.06.94z\"/><path d=\"M17.41 7.96l-1.37-1.37c-.4-.4-.92-.59-1.43-.59-.52 0-1.04.2-1.43.59L10.3 9.45l-7.72 7.72c-.78.78-.78 2.05 0 2.83L4 21.41c.39.39.9.59 1.41.59.51 0 1.02-.2 1.41-.59l7.78-7.78 2.81-2.81c.8-.78.8-2.07 0-2.86zM5.41 20L4 18.59l7.72-7.72 1.47 1.35L5.41 20z\"/>\n",
              "  </svg>\n",
              "      </button>\n",
              "      \n",
              "  <style>\n",
              "    .colab-df-container {\n",
              "      display:flex;\n",
              "      flex-wrap:wrap;\n",
              "      gap: 12px;\n",
              "    }\n",
              "\n",
              "    .colab-df-convert {\n",
              "      background-color: #E8F0FE;\n",
              "      border: none;\n",
              "      border-radius: 50%;\n",
              "      cursor: pointer;\n",
              "      display: none;\n",
              "      fill: #1967D2;\n",
              "      height: 32px;\n",
              "      padding: 0 0 0 0;\n",
              "      width: 32px;\n",
              "    }\n",
              "\n",
              "    .colab-df-convert:hover {\n",
              "      background-color: #E2EBFA;\n",
              "      box-shadow: 0px 1px 2px rgba(60, 64, 67, 0.3), 0px 1px 3px 1px rgba(60, 64, 67, 0.15);\n",
              "      fill: #174EA6;\n",
              "    }\n",
              "\n",
              "    [theme=dark] .colab-df-convert {\n",
              "      background-color: #3B4455;\n",
              "      fill: #D2E3FC;\n",
              "    }\n",
              "\n",
              "    [theme=dark] .colab-df-convert:hover {\n",
              "      background-color: #434B5C;\n",
              "      box-shadow: 0px 1px 3px 1px rgba(0, 0, 0, 0.15);\n",
              "      filter: drop-shadow(0px 1px 2px rgba(0, 0, 0, 0.3));\n",
              "      fill: #FFFFFF;\n",
              "    }\n",
              "  </style>\n",
              "\n",
              "      <script>\n",
              "        const buttonEl =\n",
              "          document.querySelector('#df-17ea12c0-9c4b-467b-bc18-d0e977ee0ec5 button.colab-df-convert');\n",
              "        buttonEl.style.display =\n",
              "          google.colab.kernel.accessAllowed ? 'block' : 'none';\n",
              "\n",
              "        async function convertToInteractive(key) {\n",
              "          const element = document.querySelector('#df-17ea12c0-9c4b-467b-bc18-d0e977ee0ec5');\n",
              "          const dataTable =\n",
              "            await google.colab.kernel.invokeFunction('convertToInteractive',\n",
              "                                                     [key], {});\n",
              "          if (!dataTable) return;\n",
              "\n",
              "          const docLinkHtml = 'Like what you see? Visit the ' +\n",
              "            '<a target=\"_blank\" href=https://colab.research.google.com/notebooks/data_table.ipynb>data table notebook</a>'\n",
              "            + ' to learn more about interactive tables.';\n",
              "          element.innerHTML = '';\n",
              "          dataTable['output_type'] = 'display_data';\n",
              "          await google.colab.output.renderOutput(dataTable, element);\n",
              "          const docLink = document.createElement('div');\n",
              "          docLink.innerHTML = docLinkHtml;\n",
              "          element.appendChild(docLink);\n",
              "        }\n",
              "      </script>\n",
              "    </div>\n",
              "  </div>\n",
              "  "
            ]
          },
          "metadata": {},
          "execution_count": 14
        },
        {
          "output_type": "display_data",
          "data": {
            "text/plain": [
              "<Figure size 600x400 with 2 Axes>"
            ],
            "image/png": "[encoded data removed]"
          },
          "metadata": {}
        }
      ]
    },
    {
      "cell_type": "markdown",
      "source": [
        "параметры через перебор с помощью GridSearch:"
      ],
      "metadata": {
        "id": "AG2-zci9O-lH"
      }
    },
    {
      "cell_type": "code",
      "source": [
        "%%time\n",
        "params = {\n",
        "    'classifier__learning_rate': [0.05, 0.1],\n",
        "    'classifier__n_estimators': [100, 200], \n",
        "    'classifier__max_depth': [1, 3, 5],\n",
        "    'classifier__min_samples_split': [2, 5, 10],\n",
        "    'classifier__min_samples_leaf': [1, 2],\n",
        "    'classifier__subsample': [0.5, 1.0],\n",
        "}\n",
        "\n",
        "grid = GridSearchCV(pipeline, param_grid=params, cv=6, refit=False, n_jobs=-1)\n",
        "search = grid.fit(X_train, y_train)\n",
        "search.best_params_"
      ],
      "metadata": {
        "colab": {
          "base_uri": "https://localhost:8080/"
        },
        "id": "qUZB4GFH1guf",
        "outputId": "918927b6-f879-480e-c789-b8d72dc59f64"
      },
      "execution_count": 15,
      "outputs": [
        {
          "output_type": "stream",
          "name": "stdout",
          "text": [
            "CPU times: user 18.3 s, sys: 1.3 s, total: 19.6 s\n",
            "Wall time: 18min 22s\n"
          ]
        },
        {
          "output_type": "execute_result",
          "data": {
            "text/plain": [
              "{'classifier__learning_rate': 0.05,\n",
              " 'classifier__max_depth': 3,\n",
              " 'classifier__min_samples_leaf': 1,\n",
              " 'classifier__min_samples_split': 2,\n",
              " 'classifier__n_estimators': 200,\n",
              " 'classifier__subsample': 0.5}"
            ]
          },
          "metadata": {},
          "execution_count": 15
        }
      ]
    },
    {
      "cell_type": "code",
      "source": [
        "best_params = rename_keys(search.best_params_, 'classifier__')\n",
        "pipeline = Pipeline([\n",
        "    ('features', feats),\n",
        "    ('classifier', GradientBoostingClassifier(**best_params, random_state=random_state)),\n",
        "])\n",
        "\n",
        "df_editor.model_performance_report(pipeline, X_train, X_test, y_train, y_test, \n",
        "                                   'GradientBoosting BEST_param')\n",
        "df_editor.df.iloc[[-1]]"
      ],
      "metadata": {
        "id": "RfbpN-fWZ_nC",
        "colab": {
          "base_uri": "https://localhost:8080/",
          "height": 516
        },
        "outputId": "0a8701de-7320-4a37-885b-8dae3970315c"
      },
      "execution_count": 16,
      "outputs": [
        {
          "output_type": "execute_result",
          "data": {
            "text/plain": [
              "                    name_model   F-Score  Precision   Recall   ROC AUC  \\\n",
              "3  GradientBoosting BEST_param  0.639831   0.694253  0.59332  0.872396   \n",
              "\n",
              "     thresh fin_result  best_thresh best_fin_result  \n",
              "3  0.414032        168     0.636364             183  "
            ],
            "text/html": [
              "\n",
              "  <div id=\"df-acb179f1-a62e-463e-8e6d-9c0d2bc063a9\">\n",
              "    <div class=\"colab-df-container\">\n",
              "      <div>\n",
              "<style scoped>\n",
              "    .dataframe tbody tr th:only-of-type {\n",
              "        vertical-align: middle;\n",
              "    }\n",
              "\n",
              "    .dataframe tbody tr th {\n",
              "        vertical-align: top;\n",
              "    }\n",
              "\n",
              "    .dataframe thead th {\n",
              "        text-align: right;\n",
              "    }\n",
              "</style>\n",
              "<table border=\"1\" class=\"dataframe\">\n",
              "  <thead>\n",
              "    <tr style=\"text-align: right;\">\n",
              "      <th></th>\n",
              "      <th>name_model</th>\n",
              "      <th>F-Score</th>\n",
              "      <th>Precision</th>\n",
              "      <th>Recall</th>\n",
              "      <th>ROC AUC</th>\n",
              "      <th>thresh</th>\n",
              "      <th>fin_result</th>\n",
              "      <th>best_thresh</th>\n",
              "      <th>best_fin_result</th>\n",
              "    </tr>\n",
              "  </thead>\n",
              "  <tbody>\n",
              "    <tr>\n",
              "      <th>3</th>\n",
              "      <td>GradientBoosting BEST_param</td>\n",
              "      <td>0.639831</td>\n",
              "      <td>0.694253</td>\n",
              "      <td>0.59332</td>\n",
              "      <td>0.872396</td>\n",
              "      <td>0.414032</td>\n",
              "      <td>168</td>\n",
              "      <td>0.636364</td>\n",
              "      <td>183</td>\n",
              "    </tr>\n",
              "  </tbody>\n",
              "</table>\n",
              "</div>\n",
              "      <button class=\"colab-df-convert\" onclick=\"convertToInteractive('df-acb179f1-a62e-463e-8e6d-9c0d2bc063a9')\"\n",
              "              title=\"Convert this dataframe to an interactive table.\"\n",
              "              style=\"display:none;\">\n",
              "        \n",
              "  <svg xmlns=\"http://www.w3.org/2000/svg\" height=\"24px\"viewBox=\"0 0 24 24\"\n",
              "       width=\"24px\">\n",
              "    <path d=\"M0 0h24v24H0V0z\" fill=\"none\"/>\n",
              "    <path d=\"M18.56 5.44l.94 2.06.94-2.06 2.06-.94-2.06-.94-.94-2.06-.94 2.06-2.06.94zm-11 1L8.5 8.5l.94-2.06 2.06-.94-2.06-.94L8.5 2.5l-.94 2.06-2.06.94zm10 10l.94 2.06.94-2.06 2.06-.94-2.06-.94-.94-2.06-.94 2.06-2.06.94z\"/><path d=\"M17.41 7.96l-1.37-1.37c-.4-.4-.92-.59-1.43-.59-.52 0-1.04.2-1.43.59L10.3 9.45l-7.72 7.72c-.78.78-.78 2.05 0 2.83L4 21.41c.39.39.9.59 1.41.59.51 0 1.02-.2 1.41-.59l7.78-7.78 2.81-2.81c.8-.78.8-2.07 0-2.86zM5.41 20L4 18.59l7.72-7.72 1.47 1.35L5.41 20z\"/>\n",
              "  </svg>\n",
              "      </button>\n",
              "      \n",
              "  <style>\n",
              "    .colab-df-container {\n",
              "      display:flex;\n",
              "      flex-wrap:wrap;\n",
              "      gap: 12px;\n",
              "    }\n",
              "\n",
              "    .colab-df-convert {\n",
              "      background-color: #E8F0FE;\n",
              "      border: none;\n",
              "      border-radius: 50%;\n",
              "      cursor: pointer;\n",
              "      display: none;\n",
              "      fill: #1967D2;\n",
              "      height: 32px;\n",
              "      padding: 0 0 0 0;\n",
              "      width: 32px;\n",
              "    }\n",
              "\n",
              "    .colab-df-convert:hover {\n",
              "      background-color: #E2EBFA;\n",
              "      box-shadow: 0px 1px 2px rgba(60, 64, 67, 0.3), 0px 1px 3px 1px rgba(60, 64, 67, 0.15);\n",
              "      fill: #174EA6;\n",
              "    }\n",
              "\n",
              "    [theme=dark] .colab-df-convert {\n",
              "      background-color: #3B4455;\n",
              "      fill: #D2E3FC;\n",
              "    }\n",
              "\n",
              "    [theme=dark] .colab-df-convert:hover {\n",
              "      background-color: #434B5C;\n",
              "      box-shadow: 0px 1px 3px 1px rgba(0, 0, 0, 0.15);\n",
              "      filter: drop-shadow(0px 1px 2px rgba(0, 0, 0, 0.3));\n",
              "      fill: #FFFFFF;\n",
              "    }\n",
              "  </style>\n",
              "\n",
              "      <script>\n",
              "        const buttonEl =\n",
              "          document.querySelector('#df-acb179f1-a62e-463e-8e6d-9c0d2bc063a9 button.colab-df-convert');\n",
              "        buttonEl.style.display =\n",
              "          google.colab.kernel.accessAllowed ? 'block' : 'none';\n",
              "\n",
              "        async function convertToInteractive(key) {\n",
              "          const element = document.querySelector('#df-acb179f1-a62e-463e-8e6d-9c0d2bc063a9');\n",
              "          const dataTable =\n",
              "            await google.colab.kernel.invokeFunction('convertToInteractive',\n",
              "                                                     [key], {});\n",
              "          if (!dataTable) return;\n",
              "\n",
              "          const docLinkHtml = 'Like what you see? Visit the ' +\n",
              "            '<a target=\"_blank\" href=https://colab.research.google.com/notebooks/data_table.ipynb>data table notebook</a>'\n",
              "            + ' to learn more about interactive tables.';\n",
              "          element.innerHTML = '';\n",
              "          dataTable['output_type'] = 'display_data';\n",
              "          await google.colab.output.renderOutput(dataTable, element);\n",
              "          const docLink = document.createElement('div');\n",
              "          docLink.innerHTML = docLinkHtml;\n",
              "          element.appendChild(docLink);\n",
              "        }\n",
              "      </script>\n",
              "    </div>\n",
              "  </div>\n",
              "  "
            ]
          },
          "metadata": {},
          "execution_count": 16
        },
        {
          "output_type": "display_data",
          "data": {
            "text/plain": [
              "<Figure size 600x400 with 2 Axes>"
            ],
            "image/png": "[encoded data removed]"
          },
          "metadata": {}
        }
      ]
    },
    {
      "cell_type": "markdown",
      "source": [
        "______"
      ],
      "metadata": {
        "id": "bOcz7kArPqRe"
      }
    },
    {
      "cell_type": "markdown",
      "source": [
        "## **LogisticRegression**"
      ],
      "metadata": {
        "id": "ewCYhAto9gcz"
      }
    },
    {
      "cell_type": "markdown",
      "source": [
        "дефолтные параметры:"
      ],
      "metadata": {
        "id": "XaSGem6IPICM"
      }
    },
    {
      "cell_type": "code",
      "source": [
        "pipeline = Pipeline([\n",
        "    ('features', feats),\n",
        "    ('classifier', LogisticRegression(random_state=random_state)),\n",
        "])\n",
        "\n",
        "df_editor.model_performance_report(pipeline, X_train, X_test, y_train, y_test, \n",
        "                                   'LogisticRegression')\n",
        "df_editor.df.iloc[[-1]]"
      ],
      "metadata": {
        "colab": {
          "base_uri": "https://localhost:8080/",
          "height": 516
        },
        "id": "91yoawen9fy2",
        "outputId": "5ce6e039-a6f7-4dc1-9326-81b52a6026c9"
      },
      "execution_count": 17,
      "outputs": [
        {
          "output_type": "execute_result",
          "data": {
            "text/plain": [
              "           name_model  F-Score  Precision   Recall   ROC AUC    thresh  \\\n",
              "4  LogisticRegression   0.5097     0.4624  0.56778  0.772077  0.289522   \n",
              "\n",
              "  fin_result  best_thresh best_fin_result  \n",
              "4        -48     0.545455              36  "
            ],
            "text/html": [
              "\n",
              "  <div id=\"df-af7639f3-5d01-4543-a43d-c747fef4be54\">\n",
              "    <div class=\"colab-df-container\">\n",
              "      <div>\n",
              "<style scoped>\n",
              "    .dataframe tbody tr th:only-of-type {\n",
              "        vertical-align: middle;\n",
              "    }\n",
              "\n",
              "    .dataframe tbody tr th {\n",
              "        vertical-align: top;\n",
              "    }\n",
              "\n",
              "    .dataframe thead th {\n",
              "        text-align: right;\n",
              "    }\n",
              "</style>\n",
              "<table border=\"1\" class=\"dataframe\">\n",
              "  <thead>\n",
              "    <tr style=\"text-align: right;\">\n",
              "      <th></th>\n",
              "      <th>name_model</th>\n",
              "      <th>F-Score</th>\n",
              "      <th>Precision</th>\n",
              "      <th>Recall</th>\n",
              "      <th>ROC AUC</th>\n",
              "      <th>thresh</th>\n",
              "      <th>fin_result</th>\n",
              "      <th>best_thresh</th>\n",
              "      <th>best_fin_result</th>\n",
              "    </tr>\n",
              "  </thead>\n",
              "  <tbody>\n",
              "    <tr>\n",
              "      <th>4</th>\n",
              "      <td>LogisticRegression</td>\n",
              "      <td>0.5097</td>\n",
              "      <td>0.4624</td>\n",
              "      <td>0.56778</td>\n",
              "      <td>0.772077</td>\n",
              "      <td>0.289522</td>\n",
              "      <td>-48</td>\n",
              "      <td>0.545455</td>\n",
              "      <td>36</td>\n",
              "    </tr>\n",
              "  </tbody>\n",
              "</table>\n",
              "</div>\n",
              "      <button class=\"colab-df-convert\" onclick=\"convertToInteractive('df-af7639f3-5d01-4543-a43d-c747fef4be54')\"\n",
              "              title=\"Convert this dataframe to an interactive table.\"\n",
              "              style=\"display:none;\">\n",
              "        \n",
              "  <svg xmlns=\"http://www.w3.org/2000/svg\" height=\"24px\"viewBox=\"0 0 24 24\"\n",
              "       width=\"24px\">\n",
              "    <path d=\"M0 0h24v24H0V0z\" fill=\"none\"/>\n",
              "    <path d=\"M18.56 5.44l.94 2.06.94-2.06 2.06-.94-2.06-.94-.94-2.06-.94 2.06-2.06.94zm-11 1L8.5 8.5l.94-2.06 2.06-.94-2.06-.94L8.5 2.5l-.94 2.06-2.06.94zm10 10l.94 2.06.94-2.06 2.06-.94-2.06-.94-.94-2.06-.94 2.06-2.06.94z\"/><path d=\"M17.41 7.96l-1.37-1.37c-.4-.4-.92-.59-1.43-.59-.52 0-1.04.2-1.43.59L10.3 9.45l-7.72 7.72c-.78.78-.78 2.05 0 2.83L4 21.41c.39.39.9.59 1.41.59.51 0 1.02-.2 1.41-.59l7.78-7.78 2.81-2.81c.8-.78.8-2.07 0-2.86zM5.41 20L4 18.59l7.72-7.72 1.47 1.35L5.41 20z\"/>\n",
              "  </svg>\n",
              "      </button>\n",
              "      \n",
              "  <style>\n",
              "    .colab-df-container {\n",
              "      display:flex;\n",
              "      flex-wrap:wrap;\n",
              "      gap: 12px;\n",
              "    }\n",
              "\n",
              "    .colab-df-convert {\n",
              "      background-color: #E8F0FE;\n",
              "      border: none;\n",
              "      border-radius: 50%;\n",
              "      cursor: pointer;\n",
              "      display: none;\n",
              "      fill: #1967D2;\n",
              "      height: 32px;\n",
              "      padding: 0 0 0 0;\n",
              "      width: 32px;\n",
              "    }\n",
              "\n",
              "    .colab-df-convert:hover {\n",
              "      background-color: #E2EBFA;\n",
              "      box-shadow: 0px 1px 2px rgba(60, 64, 67, 0.3), 0px 1px 3px 1px rgba(60, 64, 67, 0.15);\n",
              "      fill: #174EA6;\n",
              "    }\n",
              "\n",
              "    [theme=dark] .colab-df-convert {\n",
              "      background-color: #3B4455;\n",
              "      fill: #D2E3FC;\n",
              "    }\n",
              "\n",
              "    [theme=dark] .colab-df-convert:hover {\n",
              "      background-color: #434B5C;\n",
              "      box-shadow: 0px 1px 3px 1px rgba(0, 0, 0, 0.15);\n",
              "      filter: drop-shadow(0px 1px 2px rgba(0, 0, 0, 0.3));\n",
              "      fill: #FFFFFF;\n",
              "    }\n",
              "  </style>\n",
              "\n",
              "      <script>\n",
              "        const buttonEl =\n",
              "          document.querySelector('#df-af7639f3-5d01-4543-a43d-c747fef4be54 button.colab-df-convert');\n",
              "        buttonEl.style.display =\n",
              "          google.colab.kernel.accessAllowed ? 'block' : 'none';\n",
              "\n",
              "        async function convertToInteractive(key) {\n",
              "          const element = document.querySelector('#df-af7639f3-5d01-4543-a43d-c747fef4be54');\n",
              "          const dataTable =\n",
              "            await google.colab.kernel.invokeFunction('convertToInteractive',\n",
              "                                                     [key], {});\n",
              "          if (!dataTable) return;\n",
              "\n",
              "          const docLinkHtml = 'Like what you see? Visit the ' +\n",
              "            '<a target=\"_blank\" href=https://colab.research.google.com/notebooks/data_table.ipynb>data table notebook</a>'\n",
              "            + ' to learn more about interactive tables.';\n",
              "          element.innerHTML = '';\n",
              "          dataTable['output_type'] = 'display_data';\n",
              "          await google.colab.output.renderOutput(dataTable, element);\n",
              "          const docLink = document.createElement('div');\n",
              "          docLink.innerHTML = docLinkHtml;\n",
              "          element.appendChild(docLink);\n",
              "        }\n",
              "      </script>\n",
              "    </div>\n",
              "  </div>\n",
              "  "
            ]
          },
          "metadata": {},
          "execution_count": 17
        },
        {
          "output_type": "display_data",
          "data": {
            "text/plain": [
              "<Figure size 600x400 with 2 Axes>"
            ],
            "image/png": "[encoded data removed]"
          },
          "metadata": {}
        }
      ]
    },
    {
      "cell_type": "markdown",
      "source": [
        "параметры через перебор с помощью GridSearch:"
      ],
      "metadata": {
        "id": "g4UXhdFzPIE2"
      }
    },
    {
      "cell_type": "code",
      "source": [
        "%%time\n",
        "params = {\n",
        "    'classifier__C': [0.01, 0.1, 1, 10, 100],\n",
        "    'classifier__penalty': ['l1', 'l2', 'elasticnet', None],\n",
        "    'classifier__tol': [1e-4, 1e-5, 1e-6],\n",
        "    'classifier__class_weight': [{0:1, 1:4}, 'balanced']\n",
        "}\n",
        "\n",
        "grid = GridSearchCV(pipeline, param_grid=params, cv=6, refit=False)\n",
        "search = grid.fit(X_train, y_train)\n",
        "search.best_params_"
      ],
      "metadata": {
        "colab": {
          "base_uri": "https://localhost:8080/"
        },
        "id": "rbP3N8e-9f4N",
        "outputId": "1c180884-b8a3-48be-885e-e5a2a04bccc1"
      },
      "execution_count": 18,
      "outputs": [
        {
          "output_type": "stream",
          "name": "stdout",
          "text": [
            "CPU times: user 59.6 s, sys: 34.4 s, total: 1min 34s\n",
            "Wall time: 1min 3s\n"
          ]
        },
        {
          "output_type": "execute_result",
          "data": {
            "text/plain": [
              "{'classifier__C': 0.01,\n",
              " 'classifier__class_weight': 'balanced',\n",
              " 'classifier__penalty': 'l2',\n",
              " 'classifier__tol': 0.0001}"
            ]
          },
          "metadata": {},
          "execution_count": 18
        }
      ]
    },
    {
      "cell_type": "code",
      "source": [
        "best_params = rename_keys(search.best_params_, 'classifier__')\n",
        "pipeline = Pipeline([\n",
        "    ('features', feats),\n",
        "    ('classifier', LogisticRegression(**best_params, random_state=random_state)),\n",
        "])\n",
        "\n",
        "df_editor.model_performance_report(pipeline, X_train, X_test, y_train, y_test, \n",
        "                                   'LogisticRegression BEST_param')\n",
        "df_editor.df.iloc[[-1]]"
      ],
      "metadata": {
        "colab": {
          "base_uri": "https://localhost:8080/",
          "height": 516
        },
        "id": "GevUOfmWALal",
        "outputId": "fd01beb2-5753-4851-d1e7-e3f8da025d7e"
      },
      "execution_count": 19,
      "outputs": [
        {
          "output_type": "execute_result",
          "data": {
            "text/plain": [
              "                      name_model   F-Score  Precision    Recall   ROC AUC  \\\n",
              "5  LogisticRegression BEST_param  0.515702   0.445078  0.612967  0.776743   \n",
              "\n",
              "     thresh fin_result  best_thresh best_fin_result  \n",
              "5  0.575139        -78     0.727273              31  "
            ],
            "text/html": [
              "\n",
              "  <div id=\"df-31d96192-1258-4cf5-a6df-65822dd049b9\">\n",
              "    <div class=\"colab-df-container\">\n",
              "      <div>\n",
              "<style scoped>\n",
              "    .dataframe tbody tr th:only-of-type {\n",
              "        vertical-align: middle;\n",
              "    }\n",
              "\n",
              "    .dataframe tbody tr th {\n",
              "        vertical-align: top;\n",
              "    }\n",
              "\n",
              "    .dataframe thead th {\n",
              "        text-align: right;\n",
              "    }\n",
              "</style>\n",
              "<table border=\"1\" class=\"dataframe\">\n",
              "  <thead>\n",
              "    <tr style=\"text-align: right;\">\n",
              "      <th></th>\n",
              "      <th>name_model</th>\n",
              "      <th>F-Score</th>\n",
              "      <th>Precision</th>\n",
              "      <th>Recall</th>\n",
              "      <th>ROC AUC</th>\n",
              "      <th>thresh</th>\n",
              "      <th>fin_result</th>\n",
              "      <th>best_thresh</th>\n",
              "      <th>best_fin_result</th>\n",
              "    </tr>\n",
              "  </thead>\n",
              "  <tbody>\n",
              "    <tr>\n",
              "      <th>5</th>\n",
              "      <td>LogisticRegression BEST_param</td>\n",
              "      <td>0.515702</td>\n",
              "      <td>0.445078</td>\n",
              "      <td>0.612967</td>\n",
              "      <td>0.776743</td>\n",
              "      <td>0.575139</td>\n",
              "      <td>-78</td>\n",
              "      <td>0.727273</td>\n",
              "      <td>31</td>\n",
              "    </tr>\n",
              "  </tbody>\n",
              "</table>\n",
              "</div>\n",
              "      <button class=\"colab-df-convert\" onclick=\"convertToInteractive('df-31d96192-1258-4cf5-a6df-65822dd049b9')\"\n",
              "              title=\"Convert this dataframe to an interactive table.\"\n",
              "              style=\"display:none;\">\n",
              "        \n",
              "  <svg xmlns=\"http://www.w3.org/2000/svg\" height=\"24px\"viewBox=\"0 0 24 24\"\n",
              "       width=\"24px\">\n",
              "    <path d=\"M0 0h24v24H0V0z\" fill=\"none\"/>\n",
              "    <path d=\"M18.56 5.44l.94 2.06.94-2.06 2.06-.94-2.06-.94-.94-2.06-.94 2.06-2.06.94zm-11 1L8.5 8.5l.94-2.06 2.06-.94-2.06-.94L8.5 2.5l-.94 2.06-2.06.94zm10 10l.94 2.06.94-2.06 2.06-.94-2.06-.94-.94-2.06-.94 2.06-2.06.94z\"/><path d=\"M17.41 7.96l-1.37-1.37c-.4-.4-.92-.59-1.43-.59-.52 0-1.04.2-1.43.59L10.3 9.45l-7.72 7.72c-.78.78-.78 2.05 0 2.83L4 21.41c.39.39.9.59 1.41.59.51 0 1.02-.2 1.41-.59l7.78-7.78 2.81-2.81c.8-.78.8-2.07 0-2.86zM5.41 20L4 18.59l7.72-7.72 1.47 1.35L5.41 20z\"/>\n",
              "  </svg>\n",
              "      </button>\n",
              "      \n",
              "  <style>\n",
              "    .colab-df-container {\n",
              "      display:flex;\n",
              "      flex-wrap:wrap;\n",
              "      gap: 12px;\n",
              "    }\n",
              "\n",
              "    .colab-df-convert {\n",
              "      background-color: #E8F0FE;\n",
              "      border: none;\n",
              "      border-radius: 50%;\n",
              "      cursor: pointer;\n",
              "      display: none;\n",
              "      fill: #1967D2;\n",
              "      height: 32px;\n",
              "      padding: 0 0 0 0;\n",
              "      width: 32px;\n",
              "    }\n",
              "\n",
              "    .colab-df-convert:hover {\n",
              "      background-color: #E2EBFA;\n",
              "      box-shadow: 0px 1px 2px rgba(60, 64, 67, 0.3), 0px 1px 3px 1px rgba(60, 64, 67, 0.15);\n",
              "      fill: #174EA6;\n",
              "    }\n",
              "\n",
              "    [theme=dark] .colab-df-convert {\n",
              "      background-color: #3B4455;\n",
              "      fill: #D2E3FC;\n",
              "    }\n",
              "\n",
              "    [theme=dark] .colab-df-convert:hover {\n",
              "      background-color: #434B5C;\n",
              "      box-shadow: 0px 1px 3px 1px rgba(0, 0, 0, 0.15);\n",
              "      filter: drop-shadow(0px 1px 2px rgba(0, 0, 0, 0.3));\n",
              "      fill: #FFFFFF;\n",
              "    }\n",
              "  </style>\n",
              "\n",
              "      <script>\n",
              "        const buttonEl =\n",
              "          document.querySelector('#df-31d96192-1258-4cf5-a6df-65822dd049b9 button.colab-df-convert');\n",
              "        buttonEl.style.display =\n",
              "          google.colab.kernel.accessAllowed ? 'block' : 'none';\n",
              "\n",
              "        async function convertToInteractive(key) {\n",
              "          const element = document.querySelector('#df-31d96192-1258-4cf5-a6df-65822dd049b9');\n",
              "          const dataTable =\n",
              "            await google.colab.kernel.invokeFunction('convertToInteractive',\n",
              "                                                     [key], {});\n",
              "          if (!dataTable) return;\n",
              "\n",
              "          const docLinkHtml = 'Like what you see? Visit the ' +\n",
              "            '<a target=\"_blank\" href=https://colab.research.google.com/notebooks/data_table.ipynb>data table notebook</a>'\n",
              "            + ' to learn more about interactive tables.';\n",
              "          element.innerHTML = '';\n",
              "          dataTable['output_type'] = 'display_data';\n",
              "          await google.colab.output.renderOutput(dataTable, element);\n",
              "          const docLink = document.createElement('div');\n",
              "          docLink.innerHTML = docLinkHtml;\n",
              "          element.appendChild(docLink);\n",
              "        }\n",
              "      </script>\n",
              "    </div>\n",
              "  </div>\n",
              "  "
            ]
          },
          "metadata": {},
          "execution_count": 19
        },
        {
          "output_type": "display_data",
          "data": {
            "text/plain": [
              "<Figure size 600x400 with 2 Axes>"
            ],
            "image/png": "[encoded data removed]"
          },
          "metadata": {}
        }
      ]
    },
    {
      "cell_type": "markdown",
      "source": [
        "______"
      ],
      "metadata": {
        "id": "wVeMtxg9Ps9Q"
      }
    },
    {
      "cell_type": "markdown",
      "source": [
        "## **KNeighborsClassifier**"
      ],
      "metadata": {
        "id": "QsqfpkeRC_ft"
      }
    },
    {
      "cell_type": "markdown",
      "source": [
        "дефолтные параметры:"
      ],
      "metadata": {
        "id": "6iIQ2RjYPXmw"
      }
    },
    {
      "cell_type": "code",
      "source": [
        "pipeline = Pipeline([\n",
        "    ('features', feats),\n",
        "    ('classifier', KNeighborsClassifier()),\n",
        "])\n",
        "\n",
        "df_editor.model_performance_report(pipeline, X_train, X_test, y_train, y_test, \n",
        "                                   'KNeighborsClassifier')\n",
        "df_editor.df.iloc[[-1]]"
      ],
      "metadata": {
        "colab": {
          "base_uri": "https://localhost:8080/",
          "height": 516
        },
        "id": "EelWu3ZlALf1",
        "outputId": "e73e4b74-b73f-439d-b7c4-e373140111fb"
      },
      "execution_count": 20,
      "outputs": [
        {
          "output_type": "execute_result",
          "data": {
            "text/plain": [
              "             name_model   F-Score  Precision    Recall   ROC AUC  thresh  \\\n",
              "6  KNeighborsClassifier  0.560641   0.671233  0.481336  0.799837     0.6   \n",
              "\n",
              "  fin_result  best_thresh best_fin_result  \n",
              "6         91      0.40404             125  "
            ],
            "text/html": [
              "\n",
              "  <div id=\"df-dff6f4ab-8442-4a10-8692-fcac847496f2\">\n",
              "    <div class=\"colab-df-container\">\n",
              "      <div>\n",
              "<style scoped>\n",
              "    .dataframe tbody tr th:only-of-type {\n",
              "        vertical-align: middle;\n",
              "    }\n",
              "\n",
              "    .dataframe tbody tr th {\n",
              "        vertical-align: top;\n",
              "    }\n",
              "\n",
              "    .dataframe thead th {\n",
              "        text-align: right;\n",
              "    }\n",
              "</style>\n",
              "<table border=\"1\" class=\"dataframe\">\n",
              "  <thead>\n",
              "    <tr style=\"text-align: right;\">\n",
              "      <th></th>\n",
              "      <th>name_model</th>\n",
              "      <th>F-Score</th>\n",
              "      <th>Precision</th>\n",
              "      <th>Recall</th>\n",
              "      <th>ROC AUC</th>\n",
              "      <th>thresh</th>\n",
              "      <th>fin_result</th>\n",
              "      <th>best_thresh</th>\n",
              "      <th>best_fin_result</th>\n",
              "    </tr>\n",
              "  </thead>\n",
              "  <tbody>\n",
              "    <tr>\n",
              "      <th>6</th>\n",
              "      <td>KNeighborsClassifier</td>\n",
              "      <td>0.560641</td>\n",
              "      <td>0.671233</td>\n",
              "      <td>0.481336</td>\n",
              "      <td>0.799837</td>\n",
              "      <td>0.6</td>\n",
              "      <td>91</td>\n",
              "      <td>0.40404</td>\n",
              "      <td>125</td>\n",
              "    </tr>\n",
              "  </tbody>\n",
              "</table>\n",
              "</div>\n",
              "      <button class=\"colab-df-convert\" onclick=\"convertToInteractive('df-dff6f4ab-8442-4a10-8692-fcac847496f2')\"\n",
              "              title=\"Convert this dataframe to an interactive table.\"\n",
              "              style=\"display:none;\">\n",
              "        \n",
              "  <svg xmlns=\"http://www.w3.org/2000/svg\" height=\"24px\"viewBox=\"0 0 24 24\"\n",
              "       width=\"24px\">\n",
              "    <path d=\"M0 0h24v24H0V0z\" fill=\"none\"/>\n",
              "    <path d=\"M18.56 5.44l.94 2.06.94-2.06 2.06-.94-2.06-.94-.94-2.06-.94 2.06-2.06.94zm-11 1L8.5 8.5l.94-2.06 2.06-.94-2.06-.94L8.5 2.5l-.94 2.06-2.06.94zm10 10l.94 2.06.94-2.06 2.06-.94-2.06-.94-.94-2.06-.94 2.06-2.06.94z\"/><path d=\"M17.41 7.96l-1.37-1.37c-.4-.4-.92-.59-1.43-.59-.52 0-1.04.2-1.43.59L10.3 9.45l-7.72 7.72c-.78.78-.78 2.05 0 2.83L4 21.41c.39.39.9.59 1.41.59.51 0 1.02-.2 1.41-.59l7.78-7.78 2.81-2.81c.8-.78.8-2.07 0-2.86zM5.41 20L4 18.59l7.72-7.72 1.47 1.35L5.41 20z\"/>\n",
              "  </svg>\n",
              "      </button>\n",
              "      \n",
              "  <style>\n",
              "    .colab-df-container {\n",
              "      display:flex;\n",
              "      flex-wrap:wrap;\n",
              "      gap: 12px;\n",
              "    }\n",
              "\n",
              "    .colab-df-convert {\n",
              "      background-color: #E8F0FE;\n",
              "      border: none;\n",
              "      border-radius: 50%;\n",
              "      cursor: pointer;\n",
              "      display: none;\n",
              "      fill: #1967D2;\n",
              "      height: 32px;\n",
              "      padding: 0 0 0 0;\n",
              "      width: 32px;\n",
              "    }\n",
              "\n",
              "    .colab-df-convert:hover {\n",
              "      background-color: #E2EBFA;\n",
              "      box-shadow: 0px 1px 2px rgba(60, 64, 67, 0.3), 0px 1px 3px 1px rgba(60, 64, 67, 0.15);\n",
              "      fill: #174EA6;\n",
              "    }\n",
              "\n",
              "    [theme=dark] .colab-df-convert {\n",
              "      background-color: #3B4455;\n",
              "      fill: #D2E3FC;\n",
              "    }\n",
              "\n",
              "    [theme=dark] .colab-df-convert:hover {\n",
              "      background-color: #434B5C;\n",
              "      box-shadow: 0px 1px 3px 1px rgba(0, 0, 0, 0.15);\n",
              "      filter: drop-shadow(0px 1px 2px rgba(0, 0, 0, 0.3));\n",
              "      fill: #FFFFFF;\n",
              "    }\n",
              "  </style>\n",
              "\n",
              "      <script>\n",
              "        const buttonEl =\n",
              "          document.querySelector('#df-dff6f4ab-8442-4a10-8692-fcac847496f2 button.colab-df-convert');\n",
              "        buttonEl.style.display =\n",
              "          google.colab.kernel.accessAllowed ? 'block' : 'none';\n",
              "\n",
              "        async function convertToInteractive(key) {\n",
              "          const element = document.querySelector('#df-dff6f4ab-8442-4a10-8692-fcac847496f2');\n",
              "          const dataTable =\n",
              "            await google.colab.kernel.invokeFunction('convertToInteractive',\n",
              "                                                     [key], {});\n",
              "          if (!dataTable) return;\n",
              "\n",
              "          const docLinkHtml = 'Like what you see? Visit the ' +\n",
              "            '<a target=\"_blank\" href=https://colab.research.google.com/notebooks/data_table.ipynb>data table notebook</a>'\n",
              "            + ' to learn more about interactive tables.';\n",
              "          element.innerHTML = '';\n",
              "          dataTable['output_type'] = 'display_data';\n",
              "          await google.colab.output.renderOutput(dataTable, element);\n",
              "          const docLink = document.createElement('div');\n",
              "          docLink.innerHTML = docLinkHtml;\n",
              "          element.appendChild(docLink);\n",
              "        }\n",
              "      </script>\n",
              "    </div>\n",
              "  </div>\n",
              "  "
            ]
          },
          "metadata": {},
          "execution_count": 20
        },
        {
          "output_type": "display_data",
          "data": {
            "text/plain": [
              "<Figure size 600x400 with 2 Axes>"
            ],
            "image/png": "[encoded data removed]"
          },
          "metadata": {}
        }
      ]
    },
    {
      "cell_type": "markdown",
      "source": [
        "параметры через перебор с помощью GridSearch:"
      ],
      "metadata": {
        "id": "a3AvqAjyPXph"
      }
    },
    {
      "cell_type": "code",
      "source": [
        "%%time\n",
        "params = {\n",
        "    'classifier__n_neighbors': range(1, 21),\n",
        "    'classifier__weights': ['uniform', 'distance'],\n",
        "    'classifier__algorithm': ['auto', 'ball_tree', 'kd_tree', 'brute']\n",
        "}\n",
        "\n",
        "grid = GridSearchCV(pipeline, param_grid=params, cv=6, refit=False)\n",
        "search = grid.fit(X_train, y_train)\n",
        "search.best_params_"
      ],
      "metadata": {
        "colab": {
          "base_uri": "https://localhost:8080/"
        },
        "id": "o4M6zM0s-ciH",
        "outputId": "d9d7e2e5-f892-42e2-9a48-985ae4864d74"
      },
      "execution_count": 21,
      "outputs": [
        {
          "output_type": "stream",
          "name": "stdout",
          "text": [
            "CPU times: user 4min 49s, sys: 514 ms, total: 4min 49s\n",
            "Wall time: 4min 22s\n"
          ]
        },
        {
          "output_type": "execute_result",
          "data": {
            "text/plain": [
              "{'classifier__algorithm': 'auto',\n",
              " 'classifier__n_neighbors': 11,\n",
              " 'classifier__weights': 'uniform'}"
            ]
          },
          "metadata": {},
          "execution_count": 21
        }
      ]
    },
    {
      "cell_type": "code",
      "source": [
        "best_params = rename_keys(search.best_params_, 'classifier__')\n",
        "pipeline = Pipeline([\n",
        "    ('features', feats),\n",
        "    ('classifier', KNeighborsClassifier(**best_params)),\n",
        "])\n",
        "\n",
        "df_editor.model_performance_report(pipeline, X_train, X_test, y_train, y_test, \n",
        "                                   'KNeighborsClassifier BEST_param')\n",
        "df_editor.df.iloc[[-1]]"
      ],
      "metadata": {
        "colab": {
          "base_uri": "https://localhost:8080/",
          "height": 516
        },
        "id": "OKhj-Hrg-ckx",
        "outputId": "44b2b999-3a7b-49db-ff16-974c7eb46ad3"
      },
      "execution_count": 22,
      "outputs": [
        {
          "output_type": "execute_result",
          "data": {
            "text/plain": [
              "                        name_model   F-Score  Precision    Recall   ROC AUC  \\\n",
              "7  KNeighborsClassifier BEST_param  0.594296   0.558824  0.634578  0.827126   \n",
              "\n",
              "     thresh fin_result  best_thresh best_fin_result  \n",
              "7  0.363636        131     0.454545             141  "
            ],
            "text/html": [
              "\n",
              "  <div id=\"df-26d5ff77-10ad-4348-8ba1-aa86a02dd947\">\n",
              "    <div class=\"colab-df-container\">\n",
              "      <div>\n",
              "<style scoped>\n",
              "    .dataframe tbody tr th:only-of-type {\n",
              "        vertical-align: middle;\n",
              "    }\n",
              "\n",
              "    .dataframe tbody tr th {\n",
              "        vertical-align: top;\n",
              "    }\n",
              "\n",
              "    .dataframe thead th {\n",
              "        text-align: right;\n",
              "    }\n",
              "</style>\n",
              "<table border=\"1\" class=\"dataframe\">\n",
              "  <thead>\n",
              "    <tr style=\"text-align: right;\">\n",
              "      <th></th>\n",
              "      <th>name_model</th>\n",
              "      <th>F-Score</th>\n",
              "      <th>Precision</th>\n",
              "      <th>Recall</th>\n",
              "      <th>ROC AUC</th>\n",
              "      <th>thresh</th>\n",
              "      <th>fin_result</th>\n",
              "      <th>best_thresh</th>\n",
              "      <th>best_fin_result</th>\n",
              "    </tr>\n",
              "  </thead>\n",
              "  <tbody>\n",
              "    <tr>\n",
              "      <th>7</th>\n",
              "      <td>KNeighborsClassifier BEST_param</td>\n",
              "      <td>0.594296</td>\n",
              "      <td>0.558824</td>\n",
              "      <td>0.634578</td>\n",
              "      <td>0.827126</td>\n",
              "      <td>0.363636</td>\n",
              "      <td>131</td>\n",
              "      <td>0.454545</td>\n",
              "      <td>141</td>\n",
              "    </tr>\n",
              "  </tbody>\n",
              "</table>\n",
              "</div>\n",
              "      <button class=\"colab-df-convert\" onclick=\"convertToInteractive('df-26d5ff77-10ad-4348-8ba1-aa86a02dd947')\"\n",
              "              title=\"Convert this dataframe to an interactive table.\"\n",
              "              style=\"display:none;\">\n",
              "        \n",
              "  <svg xmlns=\"http://www.w3.org/2000/svg\" height=\"24px\"viewBox=\"0 0 24 24\"\n",
              "       width=\"24px\">\n",
              "    <path d=\"M0 0h24v24H0V0z\" fill=\"none\"/>\n",
              "    <path d=\"M18.56 5.44l.94 2.06.94-2.06 2.06-.94-2.06-.94-.94-2.06-.94 2.06-2.06.94zm-11 1L8.5 8.5l.94-2.06 2.06-.94-2.06-.94L8.5 2.5l-.94 2.06-2.06.94zm10 10l.94 2.06.94-2.06 2.06-.94-2.06-.94-.94-2.06-.94 2.06-2.06.94z\"/><path d=\"M17.41 7.96l-1.37-1.37c-.4-.4-.92-.59-1.43-.59-.52 0-1.04.2-1.43.59L10.3 9.45l-7.72 7.72c-.78.78-.78 2.05 0 2.83L4 21.41c.39.39.9.59 1.41.59.51 0 1.02-.2 1.41-.59l7.78-7.78 2.81-2.81c.8-.78.8-2.07 0-2.86zM5.41 20L4 18.59l7.72-7.72 1.47 1.35L5.41 20z\"/>\n",
              "  </svg>\n",
              "      </button>\n",
              "      \n",
              "  <style>\n",
              "    .colab-df-container {\n",
              "      display:flex;\n",
              "      flex-wrap:wrap;\n",
              "      gap: 12px;\n",
              "    }\n",
              "\n",
              "    .colab-df-convert {\n",
              "      background-color: #E8F0FE;\n",
              "      border: none;\n",
              "      border-radius: 50%;\n",
              "      cursor: pointer;\n",
              "      display: none;\n",
              "      fill: #1967D2;\n",
              "      height: 32px;\n",
              "      padding: 0 0 0 0;\n",
              "      width: 32px;\n",
              "    }\n",
              "\n",
              "    .colab-df-convert:hover {\n",
              "      background-color: #E2EBFA;\n",
              "      box-shadow: 0px 1px 2px rgba(60, 64, 67, 0.3), 0px 1px 3px 1px rgba(60, 64, 67, 0.15);\n",
              "      fill: #174EA6;\n",
              "    }\n",
              "\n",
              "    [theme=dark] .colab-df-convert {\n",
              "      background-color: #3B4455;\n",
              "      fill: #D2E3FC;\n",
              "    }\n",
              "\n",
              "    [theme=dark] .colab-df-convert:hover {\n",
              "      background-color: #434B5C;\n",
              "      box-shadow: 0px 1px 3px 1px rgba(0, 0, 0, 0.15);\n",
              "      filter: drop-shadow(0px 1px 2px rgba(0, 0, 0, 0.3));\n",
              "      fill: #FFFFFF;\n",
              "    }\n",
              "  </style>\n",
              "\n",
              "      <script>\n",
              "        const buttonEl =\n",
              "          document.querySelector('#df-26d5ff77-10ad-4348-8ba1-aa86a02dd947 button.colab-df-convert');\n",
              "        buttonEl.style.display =\n",
              "          google.colab.kernel.accessAllowed ? 'block' : 'none';\n",
              "\n",
              "        async function convertToInteractive(key) {\n",
              "          const element = document.querySelector('#df-26d5ff77-10ad-4348-8ba1-aa86a02dd947');\n",
              "          const dataTable =\n",
              "            await google.colab.kernel.invokeFunction('convertToInteractive',\n",
              "                                                     [key], {});\n",
              "          if (!dataTable) return;\n",
              "\n",
              "          const docLinkHtml = 'Like what you see? Visit the ' +\n",
              "            '<a target=\"_blank\" href=https://colab.research.google.com/notebooks/data_table.ipynb>data table notebook</a>'\n",
              "            + ' to learn more about interactive tables.';\n",
              "          element.innerHTML = '';\n",
              "          dataTable['output_type'] = 'display_data';\n",
              "          await google.colab.output.renderOutput(dataTable, element);\n",
              "          const docLink = document.createElement('div');\n",
              "          docLink.innerHTML = docLinkHtml;\n",
              "          element.appendChild(docLink);\n",
              "        }\n",
              "      </script>\n",
              "    </div>\n",
              "  </div>\n",
              "  "
            ]
          },
          "metadata": {},
          "execution_count": 22
        },
        {
          "output_type": "display_data",
          "data": {
            "text/plain": [
              "<Figure size 600x400 with 2 Axes>"
            ],
            "image/png": "[encoded data removed]"
          },
          "metadata": {}
        }
      ]
    },
    {
      "cell_type": "markdown",
      "source": [
        "______\n",
        "______"
      ],
      "metadata": {
        "id": "-j4iKdW0PmY_"
      }
    },
    {
      "cell_type": "markdown",
      "source": [
        "Посмотрим на сводную таблицу работы моделей:"
      ],
      "metadata": {
        "id": "I6MD7ygfPywL"
      }
    },
    {
      "cell_type": "code",
      "source": [
        "df_editor.df.sort_values(by='best_fin_result', ascending=False)"
      ],
      "metadata": {
        "colab": {
          "base_uri": "https://localhost:8080/",
          "height": 300
        },
        "id": "9mpzKgiaP1Kl",
        "outputId": "7f14ea83-d2cf-438b-e1d0-668b938245b8"
      },
      "execution_count": 23,
      "outputs": [
        {
          "output_type": "execute_result",
          "data": {
            "text/plain": [
              "                        name_model   F-Score  Precision    Recall   ROC AUC  \\\n",
              "2                 GradientBoosting  0.646121   0.703704  0.597250  0.875753   \n",
              "0                     RandomForest  0.648330   0.648330  0.648330  0.861554   \n",
              "3      GradientBoosting BEST_param  0.639831   0.694253  0.593320  0.872396   \n",
              "1          RandomForest BEST_param  0.652482   0.673640  0.632613  0.868522   \n",
              "7  KNeighborsClassifier BEST_param  0.594296   0.558824  0.634578  0.827126   \n",
              "6             KNeighborsClassifier  0.560641   0.671233  0.481336  0.799837   \n",
              "4               LogisticRegression  0.509700   0.462400  0.567780  0.772077   \n",
              "5    LogisticRegression BEST_param  0.515702   0.445078  0.612967  0.776743   \n",
              "\n",
              "     thresh fin_result  best_thresh best_fin_result  \n",
              "2  0.408508        175     0.535354             190  \n",
              "0  0.370000        155     0.484848             184  \n",
              "3  0.414032        168     0.636364             183  \n",
              "1  0.373391        163     0.434343             181  \n",
              "7  0.363636        131     0.454545             141  \n",
              "6  0.600000         91     0.404040             125  \n",
              "4  0.289522        -48     0.545455              36  \n",
              "5  0.575139        -78     0.727273              31  "
            ],
            "text/html": [
              "\n",
              "  <div id=\"df-c7fd2bc5-3a17-4eea-8d8c-e533b6351d7a\">\n",
              "    <div class=\"colab-df-container\">\n",
              "      <div>\n",
              "<style scoped>\n",
              "    .dataframe tbody tr th:only-of-type {\n",
              "        vertical-align: middle;\n",
              "    }\n",
              "\n",
              "    .dataframe tbody tr th {\n",
              "        vertical-align: top;\n",
              "    }\n",
              "\n",
              "    .dataframe thead th {\n",
              "        text-align: right;\n",
              "    }\n",
              "</style>\n",
              "<table border=\"1\" class=\"dataframe\">\n",
              "  <thead>\n",
              "    <tr style=\"text-align: right;\">\n",
              "      <th></th>\n",
              "      <th>name_model</th>\n",
              "      <th>F-Score</th>\n",
              "      <th>Precision</th>\n",
              "      <th>Recall</th>\n",
              "      <th>ROC AUC</th>\n",
              "      <th>thresh</th>\n",
              "      <th>fin_result</th>\n",
              "      <th>best_thresh</th>\n",
              "      <th>best_fin_result</th>\n",
              "    </tr>\n",
              "  </thead>\n",
              "  <tbody>\n",
              "    <tr>\n",
              "      <th>2</th>\n",
              "      <td>GradientBoosting</td>\n",
              "      <td>0.646121</td>\n",
              "      <td>0.703704</td>\n",
              "      <td>0.597250</td>\n",
              "      <td>0.875753</td>\n",
              "      <td>0.408508</td>\n",
              "      <td>175</td>\n",
              "      <td>0.535354</td>\n",
              "      <td>190</td>\n",
              "    </tr>\n",
              "    <tr>\n",
              "      <th>0</th>\n",
              "      <td>RandomForest</td>\n",
              "      <td>0.648330</td>\n",
              "      <td>0.648330</td>\n",
              "      <td>0.648330</td>\n",
              "      <td>0.861554</td>\n",
              "      <td>0.370000</td>\n",
              "      <td>155</td>\n",
              "      <td>0.484848</td>\n",
              "      <td>184</td>\n",
              "    </tr>\n",
              "    <tr>\n",
              "      <th>3</th>\n",
              "      <td>GradientBoosting BEST_param</td>\n",
              "      <td>0.639831</td>\n",
              "      <td>0.694253</td>\n",
              "      <td>0.593320</td>\n",
              "      <td>0.872396</td>\n",
              "      <td>0.414032</td>\n",
              "      <td>168</td>\n",
              "      <td>0.636364</td>\n",
              "      <td>183</td>\n",
              "    </tr>\n",
              "    <tr>\n",
              "      <th>1</th>\n",
              "      <td>RandomForest BEST_param</td>\n",
              "      <td>0.652482</td>\n",
              "      <td>0.673640</td>\n",
              "      <td>0.632613</td>\n",
              "      <td>0.868522</td>\n",
              "      <td>0.373391</td>\n",
              "      <td>163</td>\n",
              "      <td>0.434343</td>\n",
              "      <td>181</td>\n",
              "    </tr>\n",
              "    <tr>\n",
              "      <th>7</th>\n",
              "      <td>KNeighborsClassifier BEST_param</td>\n",
              "      <td>0.594296</td>\n",
              "      <td>0.558824</td>\n",
              "      <td>0.634578</td>\n",
              "      <td>0.827126</td>\n",
              "      <td>0.363636</td>\n",
              "      <td>131</td>\n",
              "      <td>0.454545</td>\n",
              "      <td>141</td>\n",
              "    </tr>\n",
              "    <tr>\n",
              "      <th>6</th>\n",
              "      <td>KNeighborsClassifier</td>\n",
              "      <td>0.560641</td>\n",
              "      <td>0.671233</td>\n",
              "      <td>0.481336</td>\n",
              "      <td>0.799837</td>\n",
              "      <td>0.600000</td>\n",
              "      <td>91</td>\n",
              "      <td>0.404040</td>\n",
              "      <td>125</td>\n",
              "    </tr>\n",
              "    <tr>\n",
              "      <th>4</th>\n",
              "      <td>LogisticRegression</td>\n",
              "      <td>0.509700</td>\n",
              "      <td>0.462400</td>\n",
              "      <td>0.567780</td>\n",
              "      <td>0.772077</td>\n",
              "      <td>0.289522</td>\n",
              "      <td>-48</td>\n",
              "      <td>0.545455</td>\n",
              "      <td>36</td>\n",
              "    </tr>\n",
              "    <tr>\n",
              "      <th>5</th>\n",
              "      <td>LogisticRegression BEST_param</td>\n",
              "      <td>0.515702</td>\n",
              "      <td>0.445078</td>\n",
              "      <td>0.612967</td>\n",
              "      <td>0.776743</td>\n",
              "      <td>0.575139</td>\n",
              "      <td>-78</td>\n",
              "      <td>0.727273</td>\n",
              "      <td>31</td>\n",
              "    </tr>\n",
              "  </tbody>\n",
              "</table>\n",
              "</div>\n",
              "      <button class=\"colab-df-convert\" onclick=\"convertToInteractive('df-c7fd2bc5-3a17-4eea-8d8c-e533b6351d7a')\"\n",
              "              title=\"Convert this dataframe to an interactive table.\"\n",
              "              style=\"display:none;\">\n",
              "        \n",
              "  <svg xmlns=\"http://www.w3.org/2000/svg\" height=\"24px\"viewBox=\"0 0 24 24\"\n",
              "       width=\"24px\">\n",
              "    <path d=\"M0 0h24v24H0V0z\" fill=\"none\"/>\n",
              "    <path d=\"M18.56 5.44l.94 2.06.94-2.06 2.06-.94-2.06-.94-.94-2.06-.94 2.06-2.06.94zm-11 1L8.5 8.5l.94-2.06 2.06-.94-2.06-.94L8.5 2.5l-.94 2.06-2.06.94zm10 10l.94 2.06.94-2.06 2.06-.94-2.06-.94-.94-2.06-.94 2.06-2.06.94z\"/><path d=\"M17.41 7.96l-1.37-1.37c-.4-.4-.92-.59-1.43-.59-.52 0-1.04.2-1.43.59L10.3 9.45l-7.72 7.72c-.78.78-.78 2.05 0 2.83L4 21.41c.39.39.9.59 1.41.59.51 0 1.02-.2 1.41-.59l7.78-7.78 2.81-2.81c.8-.78.8-2.07 0-2.86zM5.41 20L4 18.59l7.72-7.72 1.47 1.35L5.41 20z\"/>\n",
              "  </svg>\n",
              "      </button>\n",
              "      \n",
              "  <style>\n",
              "    .colab-df-container {\n",
              "      display:flex;\n",
              "      flex-wrap:wrap;\n",
              "      gap: 12px;\n",
              "    }\n",
              "\n",
              "    .colab-df-convert {\n",
              "      background-color: #E8F0FE;\n",
              "      border: none;\n",
              "      border-radius: 50%;\n",
              "      cursor: pointer;\n",
              "      display: none;\n",
              "      fill: #1967D2;\n",
              "      height: 32px;\n",
              "      padding: 0 0 0 0;\n",
              "      width: 32px;\n",
              "    }\n",
              "\n",
              "    .colab-df-convert:hover {\n",
              "      background-color: #E2EBFA;\n",
              "      box-shadow: 0px 1px 2px rgba(60, 64, 67, 0.3), 0px 1px 3px 1px rgba(60, 64, 67, 0.15);\n",
              "      fill: #174EA6;\n",
              "    }\n",
              "\n",
              "    [theme=dark] .colab-df-convert {\n",
              "      background-color: #3B4455;\n",
              "      fill: #D2E3FC;\n",
              "    }\n",
              "\n",
              "    [theme=dark] .colab-df-convert:hover {\n",
              "      background-color: #434B5C;\n",
              "      box-shadow: 0px 1px 3px 1px rgba(0, 0, 0, 0.15);\n",
              "      filter: drop-shadow(0px 1px 2px rgba(0, 0, 0, 0.3));\n",
              "      fill: #FFFFFF;\n",
              "    }\n",
              "  </style>\n",
              "\n",
              "      <script>\n",
              "        const buttonEl =\n",
              "          document.querySelector('#df-c7fd2bc5-3a17-4eea-8d8c-e533b6351d7a button.colab-df-convert');\n",
              "        buttonEl.style.display =\n",
              "          google.colab.kernel.accessAllowed ? 'block' : 'none';\n",
              "\n",
              "        async function convertToInteractive(key) {\n",
              "          const element = document.querySelector('#df-c7fd2bc5-3a17-4eea-8d8c-e533b6351d7a');\n",
              "          const dataTable =\n",
              "            await google.colab.kernel.invokeFunction('convertToInteractive',\n",
              "                                                     [key], {});\n",
              "          if (!dataTable) return;\n",
              "\n",
              "          const docLinkHtml = 'Like what you see? Visit the ' +\n",
              "            '<a target=\"_blank\" href=https://colab.research.google.com/notebooks/data_table.ipynb>data table notebook</a>'\n",
              "            + ' to learn more about interactive tables.';\n",
              "          element.innerHTML = '';\n",
              "          dataTable['output_type'] = 'display_data';\n",
              "          await google.colab.output.renderOutput(dataTable, element);\n",
              "          const docLink = document.createElement('div');\n",
              "          docLink.innerHTML = docLinkHtml;\n",
              "          element.appendChild(docLink);\n",
              "        }\n",
              "      </script>\n",
              "    </div>\n",
              "  </div>\n",
              "  "
            ]
          },
          "metadata": {},
          "execution_count": 23
        }
      ]
    },
    {
      "cell_type": "markdown",
      "source": [
        "###**Вывод:** \n",
        "\n",
        "Алгоритмы дают разные финансовые результаты и сами по себе и при разных отсечках. \n",
        "\n",
        "- *thresh* - это лучшая отсечка с точки зрения Data Science\n",
        "- *best_thresh* - это лучшая отсечка с точки зрения финансовых результатов бизнеса\n",
        "\n",
        "Для наилучших бизнес-результатов алгоритм градиентного бустинга с дефолтными параметрами справляется отлично - он возвращает больше денег, соответственно, модель с GradientBoosting для нас наиболее предпочтительна.\n",
        "\n",
        "Интересна и интерпретация результатов работы модели с случайным лесом:\n",
        "- лучшие результаты с точки зрения Data Science даёт модель с подобранными гиперпараметрами с помощью GridSearchCV - финансовый результат = 163\n",
        "- а вот с точки зрения бизнес-показателей и подбора лучшей отсечки по деньгам лучше справился RandomForest с дефолтными параметрами - финансовый результат = 184\n",
        "\n",
        "Такая разница в результатах подтверждает важность подбора наилучших параметров модели не только с точки зрения Data Science, но и с точки зрения бизнес-логики, когда допустить несклько бóльший отток клиентов бывает выгодней, чем их удерживать."
      ],
      "metadata": {
        "id": "61j5Zt3BvHp1"
      }
    },
    {
      "cell_type": "code",
      "source": [],
      "metadata": {
        "id": "R7m3D4iNlTZU"
      },
      "execution_count": 23,
      "outputs": []
    }
  ]
}